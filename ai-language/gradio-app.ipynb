{
 "cells": [
  {
   "cell_type": "code",
   "execution_count": 1,
   "metadata": {},
   "outputs": [],
   "source": [
    "import gradio as gr\n",
    "import requests"
   ]
  },
  {
   "cell_type": "code",
   "execution_count": null,
   "metadata": {},
   "outputs": [],
   "source": [
    "import requests\n",
    "import uuid\n",
    "\n",
    "API_KEY = '***'\n",
    "ENDPOINT = \"https://6b039-language2.cognitiveservices.azure.com/language/:analyze-text?api-version=2022-05-01\"\n",
    "\n",
    "HEADER = {\n",
    "    \"Content-Type\": \"application/json\",\n",
    "    \"Ocp-Apim-Subscription-Key\": API_KEY\n",
    "}\n",
    "\n",
    "\n",
    "def build_body(kind, text, language=None):\n",
    "    request_id = str(uuid.uuid4())\n",
    "    body = {\n",
    "        \"kind\": kind,\n",
    "        \"parameters\": {\n",
    "            \"modelVersion\": \"latest\"\n",
    "        },\n",
    "        \"analysisInput\": {\n",
    "            \"documents\": [\n",
    "                {\n",
    "                    \"id\": request_id,\n",
    "                    \"text\": text\n",
    "                }\n",
    "            ]\n",
    "        }\n",
    "    }\n",
    "    if language:\n",
    "        body['analysisInput']['documents'][0]['language'] = language\n",
    "    \n",
    "    return body\n",
    "\n",
    "\n",
    "def detect_language(text=\"\"):\n",
    "    response = requests.post(ENDPOINT, headers=HEADER, json=build_body('LanguageDetection', text))\n",
    "    if response.status_code == 200:\n",
    "        response_json = response.json()\n",
    "        language_code = response_json[\"results\"][\"documents\"][0][\"detectedLanguage\"][\"iso6391Name\"]\n",
    "        return language_code\n",
    "    else:\n",
    "        return response.status_code, response.reason\n",
    "    \n",
    "\n",
    "def recognize_named_entity(text=\"\"):\n",
    "    language = detect_language(text)\n",
    "    response = requests.post(ENDPOINT, headers=HEADER, json=build_body('EntityRecognition', text, language))\n",
    "    \n",
    "    if response.status_code == 200:\n",
    "        response_json = response.json()\n",
    "        results = []\n",
    "        for entity in response_json['results']['documents'][0]['entities']:\n",
    "            entity_description = f'{entity['category']}/'\n",
    "            if 'subcategory' in entity:\n",
    "                entity_description += f'{entity['subcategory']}/'\n",
    "            entity_description = f'{entity_description:60}\\t{entity['text']}\\t{entity['confidenceScore'] * 100:.2f} %'\n",
    "            results.append(entity_description)\n",
    "        return '\\n'.join(results)\n",
    "    else:\n",
    "        return response.status_code, response.reason\n",
    "    \n",
    "\n",
    "def recognize_entity_pii(text=\"\"):\n",
    "    language = detect_language(text)\n",
    "    response = requests.post(ENDPOINT, headers=HEADER, json=build_body('PiiEntityRecognition', text, language))\n",
    "    \n",
    "    if response.status_code == 200:\n",
    "        response_json = response.json()\n",
    "        results = []\n",
    "        for entity in response_json['results']['documents'][0]['entities']:\n",
    "            entity_description = f'{entity['category']}/'\n",
    "            if 'subcategory' in entity:\n",
    "                entity_description += f'{entity['subcategory']}/'\n",
    "            entity_description = f'{entity_description:60}\\t{entity['text']}\\t{entity['confidenceScore'] * 100:.2f} %'\n",
    "            results.append(entity_description)\n",
    "        return '\\n'.join(results)\n",
    "    else:\n",
    "        return response.status_code, response.reason"
   ]
  },
  {
   "cell_type": "code",
   "execution_count": 9,
   "metadata": {},
   "outputs": [
    {
     "name": "stdout",
     "output_type": "stream",
     "text": [
      "* Running on local URL:  http://127.0.0.1:7865\n",
      "\n",
      "To create a public link, set `share=True` in `launch()`.\n"
     ]
    },
    {
     "data": {
      "text/html": [
       "<div><iframe src=\"http://127.0.0.1:7865/\" width=\"100%\" height=\"500\" allow=\"autoplay; camera; microphone; clipboard-read; clipboard-write;\" frameborder=\"0\" allowfullscreen></iframe></div>"
      ],
      "text/plain": [
       "<IPython.core.display.HTML object>"
      ]
     },
     "metadata": {},
     "output_type": "display_data"
    },
    {
     "data": {
      "text/plain": []
     },
     "execution_count": 9,
     "metadata": {},
     "output_type": "execute_result"
    }
   ],
   "source": [
    "type_choices = ['Language Detection', 'Named Entity Recognization', 'PII Entity Recognization']\n",
    "\n",
    "def perform_send(choice, text):\n",
    "    text = text.strip()\n",
    "    \n",
    "    if not text:\n",
    "        return\n",
    "    \n",
    "    if choice == type_choices[0]:\n",
    "        return detect_language(text)\n",
    "    elif choice == type_choices[1]:\n",
    "        return recognize_named_entity(text)\n",
    "    else:\n",
    "        return recognize_entity_pii(text)\n",
    "    \n",
    "\n",
    "with gr.Blocks() as demo:\n",
    "    gr.Markdown('# 🔠 자연어 분석')\n",
    "    with gr.Row():\n",
    "        with gr.Column():\n",
    "            input_textbox = gr.Textbox(label='📤 요청 데이터', lines=10, max_lines=10)\n",
    "            type_radio = gr.Radio(label='🔠 분석 유형', choices=type_choices, value=type_choices[0], interactive=True)\n",
    "        with gr.Column():\n",
    "            output_textbox = gr.Textbox(label='📥 응답 데이터', lines=16, max_lines=16, interactive=False)\n",
    "    send_button = gr.Button('요청 보내기')\n",
    "    send_button.click(perform_send, inputs=[type_radio, input_textbox], outputs=[output_textbox])\n",
    "\n",
    "demo.launch()"
   ]
  },
  {
   "cell_type": "code",
   "execution_count": null,
   "metadata": {},
   "outputs": [],
   "source": []
  }
 ],
 "metadata": {
  "kernelspec": {
   "display_name": ".venv",
   "language": "python",
   "name": "python3"
  },
  "language_info": {
   "codemirror_mode": {
    "name": "ipython",
    "version": 3
   },
   "file_extension": ".py",
   "mimetype": "text/x-python",
   "name": "python",
   "nbconvert_exporter": "python",
   "pygments_lexer": "ipython3",
   "version": "3.12.7"
  }
 },
 "nbformat": 4,
 "nbformat_minor": 2
}
