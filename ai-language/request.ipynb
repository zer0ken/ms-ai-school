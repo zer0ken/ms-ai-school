{
 "cells": [
  {
   "cell_type": "markdown",
   "metadata": {},
   "source": [
    "# 🔠 Language"
   ]
  },
  {
   "cell_type": "code",
   "execution_count": 5,
   "metadata": {},
   "outputs": [],
   "source": [
    "import requests\n",
    "import uuid"
   ]
  },
  {
   "cell_type": "code",
   "execution_count": 3,
   "metadata": {},
   "outputs": [],
   "source": [
    "samgookji_ko = (\n",
    "    '삼국지연의는 중국 문학의 4대 고전 소설 중의 하나로 매우 호평을 받고 있으며, '\n",
    "    '총 80만 개의 단어와 거의 1,000명에 가까운 극적인 캐릭터들을 (대부분의 역사 인물) 120장에 담고 있다. '\n",
    "    '삼국지는 동아시아권에서 가장 사랑받는 문학 작품들 중 하나이며, '\n",
    "    '이 지역에서 문학적인 영향력은 셰익스피어 작품의 영문학에 대한 그것과 비교되어 왔다. '\n",
    "    '이 소설은 아마도 후기 제국과 현대 중국에서 가장 널리 읽혀진 역사 소설일 것이다. '\n",
    "    '허버트 자일스는 중국인들 스스로 삼국지연의가 그들의 모든 소설들 중에서 가장 위대한 것으로 간주된다고 말했다.'\n",
    ")\n",
    "samgookji_en = (\n",
    "    'The Records of the Three Kingdoms is a Chinese official history written by Chen Shou in the late 3rd century CE, '\n",
    "    'covering the end of the Han dynasty (c. 184 – 220 CE) and the subsequent Three Kingdoms period (220–280 CE). '\n",
    "    'It is regarded as to be the authoritative source text for these periods. '\n",
    "    'Compiled following the reunification of China under the Jin dynasty (266–420), '\n",
    "    'the work chronicles the political, social, and military events within rival states Cao Wei, '\n",
    "    'Shu Han and Eastern Wu into a single text organized by individual biography.'\n",
    ")\n",
    "lucky_day = (\n",
    "    '김첨지는 취중에도 설렁탕을 사가지고 집에 다다랐다. 집이라 해도 물론 셋집이요, '\n",
    "    '또 집 전체를 세든 게 아니라 안과 뚝 떨어진 행랑방 한 간을 빌어든 것인데 물을 '\n",
    "    '길어대고 한 달에 일 원씩 내는 터이다. 만일 김첨지가 주기를 띠지 않았던들 한 발'\n",
    "    '을 대문에 들여놓았을 제 그곳을 지배하는 무시무시한 정적(靜寂)---폭풍우가 지나'\n",
    "    '간 뒤의 바다 같은 정적에 다리가 떨렸으리라. 쿨룩거리는 기침 소리도 들을 수 없'\n",
    "    '다. 그르렁거리는 숨소리조차 들을 수 없다.. 다만 이 무덤 같은 침묵을 깨뜨리는, '\n",
    "    '깨뜨린다느니보다 한층 더 침묵을 깊게 하고 불길하게 하는 빡빡거리 그윽한 소리, '\n",
    "    '어린애의 젖 빠는 소리가 날 뿐이다.만일 청각이 예민한 이 같으면, 그 빡빡소리는 '\n",
    "    '빨 따름이요, 꿀떡꿀떡하고 젖 넘어가는 소리가 없으니, 빈 젖을 빤다는 것도 짐작할'\n",
    "    '는지 모르리라.'\n",
    "    '혹은 김첨지도 이 불길한 침묵을 짐작했는지도 모른다. 그렇지 않으면 대문에 들어'\n",
    "    '서자마자 전에 없이,'\n",
    "    ' “이 난장맞을 년, 남편이 들어오는데 나와 보지도 않아. 이 오라질년.”'\n",
    "    '이라고 고함을 친 게 수상하다. 이 고함이야말로 제 몸을 엄습해오는 무시무시한 증'\n",
    "    '을 쫓아 버리려는 허장성세(虛張聲勢)인 까닭이다.'\n",
    "    '하여간 김첨지는 방문을 왈칵 열었다. 구역을 나게 하는 추기 --- 떨어진 삿자리 '\n",
    "    '밑에서 나온 먼지내, 빨지 않은 지저귀에서 나는 똥내와 오줌내, 가지각색 때가 켜켜'\n",
    "    '이 앉은 옷내, 병인의 땀 섞은 내가 섞인 추기가 무딘 김첨지의 코를 찔렀다.'\n",
    "    '방안에 들어서며 설렁탕을 한구석에 놓을 사이도 없이 주정꾼은 목청을 있는 대로 '\n",
    "    '다 내어 호통을 쳤다. '\n",
    "    '“이 오라질년, 주야장천(晝夜長川) 누워만 있으면 제일이야! 남편이 와도 일어나지'\n",
    "    '를 못해.”'\n",
    "    '라는 소리와 함께 발길로 누운 이의 다리를 몹시 찼다. 그러나 발길에 채이는 건 사'\n",
    "    '람의 살이 아니고 나무등걸과 같은 느낌이 있었다. 이때에 빽빽 소리가 응아 소리로 '\n",
    "    '변하였다. 개똥이가 물었던 젖을 빼어놓고 운다. 운대도 온 얼굴을 찡그려 붙어서 운'\n",
    "    '다는 표정을 할 뿐이다. 응아 소리도 입에서 나는 게 아니고, 마치 뱃속에서 나는 듯'\n",
    "    '하였다. 울다가 울다가 목도 잠겼고 또 울 기운조차 시진한 것 같다.'\n",
    "    '발로 차도 그 보람이 없는 걸 보자 남편은 아내의 머리맡으로 달려들어 그야말로 '\n",
    "    '까치집 같은 환자의 머리를 껴들어 흔들며,'\n",
    "    ' “이년아, 말을 해, 말을! 입이 붙었어, 이 오라질년!”'\n",
    "    ' “……”'\n",
    "    ' “으응, 이것 봐, 아무말이 없네.”'\n",
    "    ' “……”'\n",
    "    ' “이년아, 죽었단 말이냐, 왜 말이 없어?”'\n",
    "    ' “……”'\n",
    "    ' “으응, 또 대답이 없네, 정말 죽었나보이.”'\n",
    "    '이러다가 누운 이의 흰 창이 검은 창을 덮은, 위로 치뜬 눈을 알아보자마자,'\n",
    "    ' “이 눈깔! 이 눈깔! 왜 나를 바루 보지 못하고 천정만 바라보느냐, 응”'\n",
    "    '하는 말끝엔 목이 메이었다. 그러자 산 사람의 눈에서 떨어진 닭똥 같은 눈물이 죽'\n",
    "    '은 이의 뻣뻣한 얼굴을 어룽어룽 적시었다. 문득 김첨지는 미친 듯이 제 얼굴을 죽'\n",
    "    '은 이의 얼굴에 한데 비벼대며 중얼거렸다. '\n",
    "    '“설렁탕을 사다 놓았는데 왜 먹지를 못하니, 왜 먹지를 못하니……괴상하게도 오늘'\n",
    "    '은 운수가 좋더니만……”'\n",
    ")"
   ]
  },
  {
   "cell_type": "markdown",
   "metadata": {},
   "source": [
    "## 🔍 분석 기능"
   ]
  },
  {
   "cell_type": "code",
   "execution_count": null,
   "metadata": {},
   "outputs": [],
   "source": [
    "def request(text, language='ko', api_key=None, endpoint=None, **extra_body):\n",
    "    if not api_key:\n",
    "        api_key = '***'\n",
    "    \n",
    "    if not endpoint:\n",
    "        endpoint = 'https://6b039-language2.cognitiveservices.azure.com/language/:analyze-text?api-version=2023-04-01'\n",
    "    \n",
    "    request_id = str(uuid.uuid4())\n",
    "    document = {\n",
    "        'id': request_id,\n",
    "        'text': text\n",
    "    }\n",
    "    if language:\n",
    "        document['language'] = language\n",
    "    \n",
    "    header = {\n",
    "        'Content-Type': 'application/json',\n",
    "        'Ocp-Apim-Subscription-Key': api_key\n",
    "    }\n",
    "    body = {\n",
    "        'analysisInput': {\n",
    "            'documents': [document]\n",
    "        },\n",
    "        **extra_body\n",
    "    }\n",
    "    \n",
    "    \n",
    "    response = requests.post(endpoint, headers=header, json=body)\n",
    "    print(response)\n",
    "    \n",
    "    if response.status_code == 200:\n",
    "        return response.json()\n",
    "    if response.status_code == 202:\n",
    "        return request_id\n",
    "    if response.status_code == 400:\n",
    "        return response.json()\n",
    "    \n",
    "    return response.reason"
   ]
  },
  {
   "cell_type": "code",
   "execution_count": 32,
   "metadata": {},
   "outputs": [
    {
     "name": "stdout",
     "output_type": "stream",
     "text": [
      "<Response [200]>\n"
     ]
    },
    {
     "data": {
      "text/plain": [
       "{'kind': 'EntityRecognitionResults',\n",
       " 'results': {'documents': [{'id': 'c572c1fb-f5f8-4c6a-a891-6944f1c3969a',\n",
       "    'entities': [{'text': '삼',\n",
       "      'category': 'Quantity',\n",
       "      'subcategory': 'Number',\n",
       "      'offset': 0,\n",
       "      'length': 1,\n",
       "      'confidenceScore': 0.8},\n",
       "     {'text': '중국',\n",
       "      'category': 'Location',\n",
       "      'subcategory': 'CountryRegion',\n",
       "      'offset': 7,\n",
       "      'length': 2,\n",
       "      'confidenceScore': 0.97},\n",
       "     {'text': '4',\n",
       "      'category': 'Quantity',\n",
       "      'subcategory': 'Number',\n",
       "      'offset': 14,\n",
       "      'length': 1,\n",
       "      'confidenceScore': 0.8},\n",
       "     {'text': '80만',\n",
       "      'category': 'Quantity',\n",
       "      'subcategory': 'Number',\n",
       "      'offset': 47,\n",
       "      'length': 3,\n",
       "      'confidenceScore': 0.8},\n",
       "     {'text': '1,000',\n",
       "      'category': 'Quantity',\n",
       "      'subcategory': 'Number',\n",
       "      'offset': 61,\n",
       "      'length': 5,\n",
       "      'confidenceScore': 0.8},\n",
       "     {'text': '사',\n",
       "      'category': 'Quantity',\n",
       "      'subcategory': 'Number',\n",
       "      'offset': 90,\n",
       "      'length': 1,\n",
       "      'confidenceScore': 0.8},\n",
       "     {'text': '120',\n",
       "      'category': 'Quantity',\n",
       "      'subcategory': 'Number',\n",
       "      'offset': 96,\n",
       "      'length': 3,\n",
       "      'confidenceScore': 0.8},\n",
       "     {'text': '삼국지는',\n",
       "      'category': 'Skill',\n",
       "      'offset': 109,\n",
       "      'length': 4,\n",
       "      'confidenceScore': 0.6},\n",
       "     {'text': '동아시아',\n",
       "      'category': 'Location',\n",
       "      'subcategory': 'GPE',\n",
       "      'offset': 114,\n",
       "      'length': 4,\n",
       "      'confidenceScore': 0.89},\n",
       "     {'text': '문학',\n",
       "      'category': 'Skill',\n",
       "      'offset': 130,\n",
       "      'length': 2,\n",
       "      'confidenceScore': 0.51},\n",
       "     {'text': '하나',\n",
       "      'category': 'Quantity',\n",
       "      'subcategory': 'Number',\n",
       "      'offset': 139,\n",
       "      'length': 2,\n",
       "      'confidenceScore': 0.8},\n",
       "     {'text': '셰익스피어',\n",
       "      'category': 'Person',\n",
       "      'offset': 162,\n",
       "      'length': 5,\n",
       "      'confidenceScore': 0.97},\n",
       "     {'text': '중국',\n",
       "      'category': 'Location',\n",
       "      'subcategory': 'CountryRegion',\n",
       "      'offset': 213,\n",
       "      'length': 2,\n",
       "      'confidenceScore': 0.86},\n",
       "     {'text': '사',\n",
       "      'category': 'Quantity',\n",
       "      'subcategory': 'Number',\n",
       "      'offset': 229,\n",
       "      'length': 1,\n",
       "      'confidenceScore': 0.8},\n",
       "     {'text': '일',\n",
       "      'category': 'Quantity',\n",
       "      'subcategory': 'Number',\n",
       "      'offset': 233,\n",
       "      'length': 1,\n",
       "      'confidenceScore': 0.8},\n",
       "     {'text': '허버트 자일스는',\n",
       "      'category': 'Person',\n",
       "      'offset': 240,\n",
       "      'length': 8,\n",
       "      'confidenceScore': 0.74},\n",
       "     {'text': '중국인',\n",
       "      'category': 'PersonType',\n",
       "      'offset': 249,\n",
       "      'length': 3,\n",
       "      'confidenceScore': 0.97},\n",
       "     {'text': '삼국지',\n",
       "      'category': 'Skill',\n",
       "      'offset': 258,\n",
       "      'length': 3,\n",
       "      'confidenceScore': 0.66}],\n",
       "    'warnings': []}],\n",
       "  'errors': [],\n",
       "  'modelVersion': '2025-02-01'}}"
      ]
     },
     "execution_count": 32,
     "metadata": {},
     "output_type": "execute_result"
    }
   ],
   "source": [
    "request(samgookji_ko, kind='EntityRecognition')"
   ]
  },
  {
   "cell_type": "code",
   "execution_count": 33,
   "metadata": {},
   "outputs": [
    {
     "name": "stdout",
     "output_type": "stream",
     "text": [
      "<Response [200]>\n"
     ]
    },
    {
     "data": {
      "text/plain": [
       "{'kind': 'PiiEntityRecognitionResults',\n",
       " 'results': {'documents': [{'redactedText': '삼국지연의는 중국 문학의 4대 고전 소설 중의 하나로 매우 호평을 받고 있으며, 총 80만 개의 단어와 거의 1,000명에 가까운 극적인 캐릭터들을 (대부분의 역사 인물) 120장에 담고 있다. 삼국지는 동아시아권에서 가장 사랑받는 문학 작품들 중 하나이며, 이 지역에서 문학적인 영향력은 ***** 작품의 영문학에 대한 그것과 비교되어 왔다. 이 소설은 아마도 후기 제국과 현대 중국에서 가장 널리 읽혀진 역사 소설일 것이다. ******** ***들 스스로 삼국지연의가 그들의 모든 소설들 중에서 가장 위대한 것으로 간주된다고 말했다.',\n",
       "    'id': '986c94b9-66f8-4e80-854f-728f91f6f906',\n",
       "    'entities': [{'text': '셰익스피어',\n",
       "      'category': 'Person',\n",
       "      'offset': 162,\n",
       "      'length': 5,\n",
       "      'confidenceScore': 0.97},\n",
       "     {'text': '허버트 자일스는',\n",
       "      'category': 'Person',\n",
       "      'offset': 240,\n",
       "      'length': 8,\n",
       "      'confidenceScore': 0.74},\n",
       "     {'text': '중국인',\n",
       "      'category': 'PersonType',\n",
       "      'offset': 249,\n",
       "      'length': 3,\n",
       "      'confidenceScore': 0.97}],\n",
       "    'warnings': []}],\n",
       "  'errors': [],\n",
       "  'modelVersion': '2025-02-01'}}"
      ]
     },
     "execution_count": 33,
     "metadata": {},
     "output_type": "execute_result"
    }
   ],
   "source": [
    "request(samgookji_ko, kind='PiiEntityRecognition')"
   ]
  },
  {
   "cell_type": "code",
   "execution_count": 34,
   "metadata": {},
   "outputs": [
    {
     "name": "stdout",
     "output_type": "stream",
     "text": [
      "<Response [200]>\n"
     ]
    },
    {
     "data": {
      "text/plain": [
       "{'kind': 'KeyPhraseExtractionResults',\n",
       " 'results': {'documents': [{'id': '83594d69-7328-4904-b06f-cfc97443c0b2',\n",
       "    'keyPhrases': ['삼국지연',\n",
       "     '중국 문학',\n",
       "     '고전 소설',\n",
       "     '80만 개의 단어',\n",
       "     '역사 인물',\n",
       "     '삼국지는',\n",
       "     '동아시아권',\n",
       "     '문학 작품들',\n",
       "     '지역',\n",
       "     '문학적인 영향력',\n",
       "     '셰익스피어 작품',\n",
       "     '영문학',\n",
       "     '후기 제국',\n",
       "     '현대 중국에서',\n",
       "     '허버트 자일스는',\n",
       "     '중국인들',\n",
       "     '소설들'],\n",
       "    'warnings': []}],\n",
       "  'errors': [],\n",
       "  'modelVersion': '2022-10-01'}}"
      ]
     },
     "execution_count": 34,
     "metadata": {},
     "output_type": "execute_result"
    }
   ],
   "source": [
    "request(samgookji_ko, kind='KeyPhraseExtraction')"
   ]
  },
  {
   "cell_type": "code",
   "execution_count": 35,
   "metadata": {},
   "outputs": [
    {
     "name": "stdout",
     "output_type": "stream",
     "text": [
      "<Response [401]>\n"
     ]
    },
    {
     "data": {
      "text/plain": [
       "'PermissionDenied'"
      ]
     },
     "execution_count": 35,
     "metadata": {},
     "output_type": "execute_result"
    }
   ],
   "source": [
    "request(samgookji_en, 'EntityLinking', 'en')"
   ]
  },
  {
   "cell_type": "code",
   "execution_count": 36,
   "metadata": {},
   "outputs": [
    {
     "name": "stdout",
     "output_type": "stream",
     "text": [
      "<Response [200]>\n"
     ]
    },
    {
     "data": {
      "text/plain": [
       "{'kind': 'SentimentAnalysisResults',\n",
       " 'results': {'documents': [{'id': '898ec578-9707-4457-b66d-628f54be5477',\n",
       "    'sentiment': 'mixed',\n",
       "    'confidenceScores': {'positive': 0.11, 'neutral': 0.09, 'negative': 0.8},\n",
       "    'sentences': [{'sentiment': 'neutral',\n",
       "      'confidenceScores': {'positive': 0.03,\n",
       "       'neutral': 0.74,\n",
       "       'negative': 0.23},\n",
       "      'offset': 0,\n",
       "      'length': 29,\n",
       "      'text': '김첨지는 취중에도 설렁탕을 사가지고 집에 다다랐다. '},\n",
       "     {'sentiment': 'neutral',\n",
       "      'confidenceScores': {'positive': 0.05,\n",
       "       'neutral': 0.49,\n",
       "       'negative': 0.46},\n",
       "      'offset': 29,\n",
       "      'length': 85,\n",
       "      'text': '집이라 해도 물론 셋집이요, 또 집 전체를 세든 게 아니라 안과 뚝 떨어진 행랑방 한 간을 빌어든 것인데 물을 길어대고 한 달에 일 원씩 내는 터이다. '},\n",
       "     {'sentiment': 'negative',\n",
       "      'confidenceScores': {'positive': 0.01,\n",
       "       'neutral': 0.03,\n",
       "       'negative': 0.95},\n",
       "      'offset': 114,\n",
       "      'length': 94,\n",
       "      'text': '만일 김첨지가 주기를 띠지 않았던들 한 발을 대문에 들여놓았을 제 그곳을 지배하는 무시무시한 정적(靜寂)---폭풍우가 지나간 뒤의 바다 같은 정적에 다리가 떨렸으리라. '},\n",
       "     {'sentiment': 'negative',\n",
       "      'confidenceScores': {'positive': 0.0, 'neutral': 0.03, 'negative': 0.96},\n",
       "      'offset': 208,\n",
       "      'length': 22,\n",
       "      'text': '쿨룩거리는 기침 소리도 들을 수 없다. '},\n",
       "     {'sentiment': 'negative',\n",
       "      'confidenceScores': {'positive': 0.0, 'neutral': 0.02, 'negative': 0.97},\n",
       "      'offset': 230,\n",
       "      'length': 23,\n",
       "      'text': '그르렁거리는 숨소리조차 들을 수 없다.. '},\n",
       "     {'sentiment': 'negative',\n",
       "      'confidenceScores': {'positive': 0.05, 'neutral': 0.0, 'negative': 0.95},\n",
       "      'offset': 253,\n",
       "      'length': 196,\n",
       "      'text': '다만 이 무덤 같은 침묵을 깨뜨리는, 깨뜨린다느니보다 한층 더 침묵을 깊게 하고 불길하게 하는 빡빡거리 그윽한 소리, 어린애의 젖 빠는 소리가 날 뿐이다.만일 청각이 예민한 이 같으면, 그 빡빡소리는 빨 따름이요, 꿀떡꿀떡하고 젖 넘어가는 소리가 없으니, 빈 젖을 빤다는 것도 짐작할는지 모르리라.혹은 김첨지도 이 불길한 침묵을 짐작했는지도 모른다. '},\n",
       "     {'sentiment': 'negative',\n",
       "      'confidenceScores': {'positive': 0.0, 'neutral': 0.09, 'negative': 0.9},\n",
       "      'offset': 449,\n",
       "      'length': 58,\n",
       "      'text': '그렇지 않으면 대문에 들어서자마자 전에 없이, “이 난장맞을 년, 남편이 들어오는데 나와 보지도 않아. '},\n",
       "     {'sentiment': 'neutral',\n",
       "      'confidenceScores': {'positive': 0.03,\n",
       "       'neutral': 0.95,\n",
       "       'negative': 0.02},\n",
       "      'offset': 507,\n",
       "      'length': 8,\n",
       "      'text': '이 오라질년.”'},\n",
       "     {'sentiment': 'positive',\n",
       "      'confidenceScores': {'positive': 0.82,\n",
       "       'neutral': 0.11,\n",
       "       'negative': 0.07},\n",
       "      'offset': 515,\n",
       "      'length': 18,\n",
       "      'text': '이라고 고함을 친 게 수상하다. '},\n",
       "     {'sentiment': 'negative',\n",
       "      'confidenceScores': {'positive': 0.04,\n",
       "       'neutral': 0.02,\n",
       "       'negative': 0.95},\n",
       "      'offset': 533,\n",
       "      'length': 75,\n",
       "      'text': '이 고함이야말로 제 몸을 엄습해오는 무시무시한 증을 쫓아 버리려는 허장성세(虛張聲勢)인 까닭이다.하여간 김첨지는 방문을 왈칵 열었다. '},\n",
       "     {'sentiment': 'negative',\n",
       "      'confidenceScores': {'positive': 0.01,\n",
       "       'neutral': 0.08,\n",
       "       'negative': 0.91},\n",
       "      'offset': 608,\n",
       "      'length': 171,\n",
       "      'text': '구역을 나게 하는 추기 --- 떨어진 삿자리 밑에서 나온 먼지내, 빨지 않은 지저귀에서 나는 똥내와 오줌내, 가지각색 때가 켜켜이 앉은 옷내, 병인의 땀 섞은 내가 섞인 추기가 무딘 김첨지의 코를 찔렀다.방안에 들어서며 설렁탕을 한구석에 놓을 사이도 없이 주정꾼은 목청을 있는 대로 다 내어 호통을 쳤다. '},\n",
       "     {'sentiment': 'positive',\n",
       "      'confidenceScores': {'positive': 0.6, 'neutral': 0.39, 'negative': 0.01},\n",
       "      'offset': 779,\n",
       "      'length': 34,\n",
       "      'text': '“이 오라질년, 주야장천(晝夜長川) 누워만 있으면 제일이야! '},\n",
       "     {'sentiment': 'neutral',\n",
       "      'confidenceScores': {'positive': 0.03, 'neutral': 0.8, 'negative': 0.18},\n",
       "      'offset': 813,\n",
       "      'length': 17,\n",
       "      'text': '남편이 와도 일어나지를 못해.”'},\n",
       "     {'sentiment': 'negative',\n",
       "      'confidenceScores': {'positive': 0.0, 'neutral': 0.02, 'negative': 0.97},\n",
       "      'offset': 830,\n",
       "      'length': 31,\n",
       "      'text': '라는 소리와 함께 발길로 누운 이의 다리를 몹시 찼다. '},\n",
       "     {'sentiment': 'neutral',\n",
       "      'confidenceScores': {'positive': 0.02,\n",
       "       'neutral': 0.61,\n",
       "       'negative': 0.37},\n",
       "      'offset': 861,\n",
       "      'length': 43,\n",
       "      'text': '그러나 발길에 채이는 건 사람의 살이 아니고 나무등걸과 같은 느낌이 있었다. '},\n",
       "     {'sentiment': 'negative',\n",
       "      'confidenceScores': {'positive': 0.0, 'neutral': 0.11, 'negative': 0.89},\n",
       "      'offset': 904,\n",
       "      'length': 24,\n",
       "      'text': '이때에 빽빽 소리가 응아 소리로 변하였다. '},\n",
       "     {'sentiment': 'negative',\n",
       "      'confidenceScores': {'positive': 0.41,\n",
       "       'neutral': 0.17,\n",
       "       'negative': 0.42},\n",
       "      'offset': 928,\n",
       "      'length': 21,\n",
       "      'text': '개똥이가 물었던 젖을 빼어놓고 운다. '},\n",
       "     {'sentiment': 'negative',\n",
       "      'confidenceScores': {'positive': 0.06,\n",
       "       'neutral': 0.08,\n",
       "       'negative': 0.86},\n",
       "      'offset': 949,\n",
       "      'length': 33,\n",
       "      'text': '운대도 온 얼굴을 찡그려 붙어서 운다는 표정을 할 뿐이다. '},\n",
       "     {'sentiment': 'negative',\n",
       "      'confidenceScores': {'positive': 0.04,\n",
       "       'neutral': 0.23,\n",
       "       'negative': 0.73},\n",
       "      'offset': 982,\n",
       "      'length': 38,\n",
       "      'text': '응아 소리도 입에서 나는 게 아니고, 마치 뱃속에서 나는 듯하였다. '},\n",
       "     {'sentiment': 'negative',\n",
       "      'confidenceScores': {'positive': 0.01, 'neutral': 0.0, 'negative': 0.99},\n",
       "      'offset': 1020,\n",
       "      'length': 117,\n",
       "      'text': '울다가 울다가 목도 잠겼고 또 울 기운조차 시진한 것 같다.발로 차도 그 보람이 없는 걸 보자 남편은 아내의 머리맡으로 달려들어 그야말로 까치집 같은 환자의 머리를 껴들어 흔들며, “이년아, 말을 해, 말을! '},\n",
       "     {'sentiment': 'neutral',\n",
       "      'confidenceScores': {'positive': 0.16,\n",
       "       'neutral': 0.67,\n",
       "       'negative': 0.17},\n",
       "      'offset': 1137,\n",
       "      'length': 17,\n",
       "      'text': '입이 붙었어, 이 오라질년!” '},\n",
       "     {'sentiment': 'neutral',\n",
       "      'confidenceScores': {'positive': 0.16,\n",
       "       'neutral': 0.68,\n",
       "       'negative': 0.16},\n",
       "      'offset': 1154,\n",
       "      'length': 5,\n",
       "      'text': '“……” '},\n",
       "     {'sentiment': 'neutral',\n",
       "      'confidenceScores': {'positive': 0.02,\n",
       "       'neutral': 0.56,\n",
       "       'negative': 0.42},\n",
       "      'offset': 1159,\n",
       "      'length': 21,\n",
       "      'text': '“으응, 이것 봐, 아무말이 없네.” '},\n",
       "     {'sentiment': 'neutral',\n",
       "      'confidenceScores': {'positive': 0.16,\n",
       "       'neutral': 0.68,\n",
       "       'negative': 0.16},\n",
       "      'offset': 1180,\n",
       "      'length': 5,\n",
       "      'text': '“……” '},\n",
       "     {'sentiment': 'negative',\n",
       "      'confidenceScores': {'positive': 0.0, 'neutral': 0.0, 'negative': 1.0},\n",
       "      'offset': 1185,\n",
       "      'length': 25,\n",
       "      'text': '“이년아, 죽었단 말이냐, 왜 말이 없어?” '},\n",
       "     {'sentiment': 'neutral',\n",
       "      'confidenceScores': {'positive': 0.03,\n",
       "       'neutral': 0.88,\n",
       "       'negative': 0.08},\n",
       "      'offset': 1210,\n",
       "      'length': 5,\n",
       "      'text': '“……” '},\n",
       "     {'sentiment': 'negative',\n",
       "      'confidenceScores': {'positive': 0.0, 'neutral': 0.0, 'negative': 1.0},\n",
       "      'offset': 1215,\n",
       "      'length': 25,\n",
       "      'text': '“으응, 또 대답이 없네, 정말 죽었나보이.”'},\n",
       "     {'sentiment': 'negative',\n",
       "      'confidenceScores': {'positive': 0.01,\n",
       "       'neutral': 0.41,\n",
       "       'negative': 0.58},\n",
       "      'offset': 1240,\n",
       "      'length': 50,\n",
       "      'text': '이러다가 누운 이의 흰 창이 검은 창을 덮은, 위로 치뜬 눈을 알아보자마자, “이 눈깔! '},\n",
       "     {'sentiment': 'neutral',\n",
       "      'confidenceScores': {'positive': 0.32,\n",
       "       'neutral': 0.64,\n",
       "       'negative': 0.04},\n",
       "      'offset': 1290,\n",
       "      'length': 6,\n",
       "      'text': '이 눈깔! '},\n",
       "     {'sentiment': 'negative',\n",
       "      'confidenceScores': {'positive': 0.01,\n",
       "       'neutral': 0.15,\n",
       "       'negative': 0.84},\n",
       "      'offset': 1296,\n",
       "      'length': 44,\n",
       "      'text': '왜 나를 바루 보지 못하고 천정만 바라보느냐, 응”하는 말끝엔 목이 메이었다. '},\n",
       "     {'sentiment': 'negative',\n",
       "      'confidenceScores': {'positive': 0.0, 'neutral': 0.0, 'negative': 1.0},\n",
       "      'offset': 1340,\n",
       "      'length': 53,\n",
       "      'text': '그러자 산 사람의 눈에서 떨어진 닭똥 같은 눈물이 죽은 이의 뻣뻣한 얼굴을 어룽어룽 적시었다. '},\n",
       "     {'sentiment': 'negative',\n",
       "      'confidenceScores': {'positive': 0.0, 'neutral': 0.0, 'negative': 1.0},\n",
       "      'offset': 1393,\n",
       "      'length': 45,\n",
       "      'text': '문득 김첨지는 미친 듯이 제 얼굴을 죽은 이의 얼굴에 한데 비벼대며 중얼거렸다. '},\n",
       "     {'sentiment': 'neutral',\n",
       "      'confidenceScores': {'positive': 0.02,\n",
       "       'neutral': 0.71,\n",
       "       'negative': 0.27},\n",
       "      'offset': 1438,\n",
       "      'length': 36,\n",
       "      'text': '“설렁탕을 사다 놓았는데 왜 먹지를 못하니, 왜 먹지를 못하니……'},\n",
       "     {'sentiment': 'negative',\n",
       "      'confidenceScores': {'positive': 0.32,\n",
       "       'neutral': 0.03,\n",
       "       'negative': 0.65},\n",
       "      'offset': 1474,\n",
       "      'length': 21,\n",
       "      'text': '괴상하게도 오늘은 운수가 좋더니만……”'}],\n",
       "    'warnings': []}],\n",
       "  'errors': [],\n",
       "  'modelVersion': '2025-01-01'}}"
      ]
     },
     "execution_count": 36,
     "metadata": {},
     "output_type": "execute_result"
    }
   ],
   "source": [
    "request(lucky_day, kind='SentimentAnalysis')"
   ]
  },
  {
   "cell_type": "code",
   "execution_count": 37,
   "metadata": {},
   "outputs": [
    {
     "name": "stdout",
     "output_type": "stream",
     "text": [
      "<Response [200]>\n"
     ]
    },
    {
     "data": {
      "text/plain": [
       "{'kind': 'LanguageDetectionResults',\n",
       " 'results': {'documents': [{'id': '39168129-bbf4-4419-b38d-3d0c5d9d3971',\n",
       "    'warnings': [],\n",
       "    'detectedLanguage': {'name': 'Korean',\n",
       "     'iso6391Name': 'ko',\n",
       "     'confidenceScore': 1.0}}],\n",
       "  'errors': [],\n",
       "  'modelVersion': '2024-11-01'}}"
      ]
     },
     "execution_count": 37,
     "metadata": {},
     "output_type": "execute_result"
    }
   ],
   "source": [
    "request(lucky_day, kind='LanguageDetection', language=None)"
   ]
  },
  {
   "cell_type": "markdown",
   "metadata": {},
   "source": [
    "## 📝 요약 기능"
   ]
  },
  {
   "cell_type": "code",
   "execution_count": null,
   "metadata": {},
   "outputs": [
    {
     "name": "stdout",
     "output_type": "stream",
     "text": [
      "<Response [202]>\n"
     ]
    },
    {
     "data": {
      "text/plain": [
       "'9c38198b-c3f7-49e3-b0d1-635950920d2e'"
      ]
     },
     "execution_count": 52,
     "metadata": {},
     "output_type": "execute_result"
    }
   ],
   "source": [
    "ENDPOINT = 'https://6b039-language2.cognitiveservices.azure.com/language/analyze-text/jobs?api-version=2023-11-15-preview'\n",
    "\n",
    "task = [{\n",
    "    'kind': 'ExtractiveSummarization',\n",
    "    'parameters': {\n",
    "        'sentenceCount': 3,\n",
    "        'query': ''\n",
    "    }\n",
    "}]\n",
    "request(\n",
    "    lucky_day,\n",
    "    endpoint=ENDPOINT,\n",
    "    tasks=[{\n",
    "        'kind': 'ExtractiveSummarization',\n",
    "        'parameters': {\n",
    "            'sentenceCount': 3,\n",
    "            'query': ''\n",
    "        }\n",
    "    }]\n",
    ")"
   ]
  },
  {
   "cell_type": "markdown",
   "metadata": {},
   "source": [
    "## 🏷️ Custom Named Entity Recognition"
   ]
  },
  {
   "cell_type": "code",
   "execution_count": 53,
   "metadata": {},
   "outputs": [
    {
     "name": "stdout",
     "output_type": "stream",
     "text": [
      "<Response [202]>\n"
     ]
    },
    {
     "data": {
      "text/plain": [
       "'f6967f48-34a8-4fcf-8321-a12b9c3fef10'"
      ]
     },
     "execution_count": 53,
     "metadata": {},
     "output_type": "execute_result"
    }
   ],
   "source": [
    "ENDPOINT = \"https://6b039-language2.cognitiveservices.azure.com/language/analyze-text/jobs?api-version=2024-11-15-preview\"\n",
    "\n",
    "request(\n",
    "    samgookji_en,\n",
    "    language='en',\n",
    "    endpoint=ENDPOINT,\n",
    "    tasks=[{\n",
    "        \"kind\": \"CustomEntityRecognition\",\n",
    "        \"parameters\": {\n",
    "            \"projectName\": \"ner1\",\n",
    "            \"deploymentName\": \"ner\",\n",
    "            \"stringIndexType\": \"TextElement_v8\"\n",
    "        }\n",
    "    }]\n",
    ")"
   ]
  }
 ],
 "metadata": {
  "kernelspec": {
   "display_name": ".venv",
   "language": "python",
   "name": "python3"
  },
  "language_info": {
   "codemirror_mode": {
    "name": "ipython",
    "version": 3
   },
   "file_extension": ".py",
   "mimetype": "text/x-python",
   "name": "python",
   "nbconvert_exporter": "python",
   "pygments_lexer": "ipython3",
   "version": "3.12.7"
  }
 },
 "nbformat": 4,
 "nbformat_minor": 2
}
