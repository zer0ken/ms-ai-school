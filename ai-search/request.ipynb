{
 "cells": [
  {
   "cell_type": "markdown",
   "metadata": {},
   "source": [
    "# 📨 Request"
   ]
  },
  {
   "cell_type": "code",
   "execution_count": null,
   "metadata": {},
   "outputs": [],
   "source": [
    "%pip install requests"
   ]
  },
  {
   "cell_type": "markdown",
   "metadata": {},
   "source": [
    "## 🗯️ GPT-4"
   ]
  },
  {
   "cell_type": "code",
   "execution_count": null,
   "metadata": {},
   "outputs": [],
   "source": [
    "import requests\n",
    "\n",
    "def ask(content):\n",
    "    header = {\n",
    "        'Content-Type': 'application/json',\n",
    "        'api-key': '<API KEY를 여기에 입력하세요>'\n",
    "    }\n",
    "\n",
    "    body = {\n",
    "        'messages': [\n",
    "            {\n",
    "                'role': 'system',\n",
    "                'content': [\n",
    "                    {\n",
    "                        'type': 'text',\n",
    "                        'text': '반말로만 말해. 차분하게 말해. 느낌표를 쓰지 마.'\n",
    "                    }\n",
    "                ]\n",
    "            },\n",
    "            {\n",
    "                'role': 'user',\n",
    "                'content': [\n",
    "                    {\n",
    "                        'type': 'text',\n",
    "                        'text': content\n",
    "                    }\n",
    "                ]\n",
    "            }\n",
    "        ],\n",
    "        'temperature': 0.7,\n",
    "        'top_p': 0.95,\n",
    "        'max_tokens': 800\n",
    "    }\n",
    "    endpoint_url = '<엔드포인트 URL을 여기에 입력하세요>'\n",
    "    response = requests.post(endpoint_url, headers=header, json=body)\n",
    "\n",
    "    message = response.json()['choices'][0]['message']\n",
    "    return message['content']"
   ]
  },
  {
   "cell_type": "code",
   "execution_count": null,
   "metadata": {},
   "outputs": [],
   "source": [
    "from IPython.display import Markdown\n",
    "\n",
    "while True:\n",
    "    content = input()\n",
    "    if not content:\n",
    "        break\n",
    "    print('>>>', content)\n",
    "    display(Markdown(ask(content)))"
   ]
  },
  {
   "cell_type": "markdown",
   "metadata": {},
   "source": [
    "## 🎨 Dall-E 3"
   ]
  },
  {
   "cell_type": "code",
   "execution_count": null,
   "metadata": {},
   "outputs": [],
   "source": [
    "\n",
    "def draw(content):\n",
    "    header = {\n",
    "        'Content-Type': 'application/json',\n",
    "        'api-key': '<API KEY를 여기에 입력하세요>'\n",
    "    }\n",
    "\n",
    "    body = {\n",
    "        'prompt': content\n",
    "    }\n",
    "    endpoint_url = '<엔드포인트 URL을 여기에 입력하세요>'\n",
    "    response = requests.post(endpoint_url, headers=header, json=body)\n",
    "\n",
    "    if response.status_code:\n",
    "        return\n",
    "    response = response.json()\n",
    "\n",
    "    return response['data'][0]['url']"
   ]
  },
  {
   "cell_type": "code",
   "execution_count": null,
   "metadata": {},
   "outputs": [],
   "source": [
    "from IPython.display import Markdown\n",
    "\n",
    "result = draw('샴고양이')\n",
    "if result:\n",
    "    display(Markdown(f'![]({result})'))\n",
    "else:\n",
    "    print('요청 횟수가 초과되었습니다.')"
   ]
  },
  {
   "cell_type": "markdown",
   "metadata": {},
   "source": [
    "## 📚 RAG"
   ]
  },
  {
   "cell_type": "code",
   "execution_count": null,
   "metadata": {},
   "outputs": [],
   "source": [
    "import requests\n",
    "\n",
    "\n",
    "def ask_lhz(content):\n",
    "    # 아래 변수에 환경에 맞는 값을 할당하세요 \n",
    "    ENDPOINT = '***' # 엔드포인트(채팅 플레이그라운드)             \n",
    "    API_KEY = '***'  # API KEY(채팅 플레이그라운드)\n",
    "\n",
    "    SEARCH_ENDPOINT = '***'      # Search Service 엔드포인트\n",
    "    SEARCH_API_KEY = '***'       # Search Service API KEY\n",
    "    SEARCH_INDEX_NAME = '***'    # 'travel-index-lucene', 'travel-index-microsoft', ...\n",
    "    SEARCH_CONFIGURATION = '***' # 'default'\n",
    "    \n",
    "    SYSTEM_INSTRUCTION = ''      # 시스템 지시사항(시스템 메시지)\n",
    "    # ===\n",
    "    \n",
    "    header = {\n",
    "        'Content-Type': 'application/json',\n",
    "        'api-key': API_KEY\n",
    "    }\n",
    "\n",
    "    body = {\n",
    "        \"data_sources\": [\n",
    "            {\n",
    "                \"type\": \"azure_search\",\n",
    "                \"parameters\": {\n",
    "                    \"endpoint\": SEARCH_ENDPOINT,\n",
    "                    \"index_name\": SEARCH_INDEX_NAME,\n",
    "                    \"semantic_configuration\": SEARCH_CONFIGURATION,\n",
    "                    \"query_type\": \"simple\",\n",
    "                    \"fields_mapping\": {},\n",
    "                    \"in_scope\": True,\n",
    "                    \"filter\": None,\n",
    "                    \"strictness\": 1,\n",
    "                    \"top_n_documents\": 3,\n",
    "                    \"authentication\": {\n",
    "                        \"type\": \"api_key\",\n",
    "                        \"key\": SEARCH_API_KEY\n",
    "                    }\n",
    "                }\n",
    "            }\n",
    "        ],\n",
    "        \"messages\": [\n",
    "            {\n",
    "                \"role\": \"system\",\n",
    "                \"content\": SYSTEM_INSTRUCTION\n",
    "            },\n",
    "            {\n",
    "                \"role\": \"user\",\n",
    "                \"content\": content\n",
    "            }\n",
    "        ],\n",
    "        \"temperature\": 0.2,\n",
    "        \"top_p\": 0.95,\n",
    "        \"max_tokens\": 800,\n",
    "    }\n",
    "    response = requests.post(ENDPOINT, headers=header, json=body)\n",
    "    message = response.json()['choices'][0]['message']\n",
    "    \n",
    "    return message['content']"
   ]
  },
  {
   "cell_type": "code",
   "execution_count": null,
   "metadata": {},
   "outputs": [
    {
     "data": {
      "text/markdown": [
       "데이트를 위한 명소로는 다음과 같은 장소들을 추천합니다:\n",
       "\n",
       "1. **남해 다랭이마을**: 아름다운 경치를 감상할 수 있는 곳으로, 다랭이논과 바다가 어우러진 풍경이 매력적입니다. 특히 해질 무렵의 경치가 로맨틱합니다 .\n",
       "\n",
       "2. **해운대 해수욕장**: 부산의 대표적인 해변으로, 여름철에는 해수욕을 즐길 수 있고, 해변가의 카페와 레스토랑에서 저녁 식사를 하며 바다를 감상할 수 있습니다 .\n",
       "\n",
       "3. **가평 아침고요수목원**: 다양한 식물과 꽃들이 있는 수목원으로, 사계절 내내 아름다운 경관을 제공합니다. 특히 봄과 가을에 방문하면 더욱 좋습니다 [doc3].\n",
       "\n",
       "4. **서울숲**: 도심 속에서 자연을 느낄 수 있는 공간으로, 산책로와 자전거 도로가 잘 조성되어 있어 여유로운 데이트를 즐기기에 적합합니다 [doc1].\n",
       "\n",
       "이 외에도 다양한 명소가 있으니, 원하는 분위기에 맞춰 선택해 보세요!"
      ],
      "text/plain": [
       "<IPython.core.display.Markdown object>"
      ]
     },
     "metadata": {},
     "output_type": "display_data"
    }
   ],
   "source": [
    "from IPython.display import Markdown\n",
    "\n",
    "result = ask_lhz('데이트 명소 추천해줘.')\n",
    "display(Markdown(result))"
   ]
  },
  {
   "cell_type": "code",
   "execution_count": null,
   "metadata": {},
   "outputs": [],
   "source": [
    "import requests\n",
    "\n",
    "\n",
    "def ask_lhz(content):\n",
    "    # 아래 변수에 환경에 맞는 값을 할당하세요 \n",
    "    ENDPOINT = '***' # 엔드포인트(채팅 플레이그라운드)             \n",
    "    API_KEY = '***'  # API KEY(채팅 플레이그라운드)\n",
    "\n",
    "    SEARCH_ENDPOINT = '***'      # Search Service 엔드포인트\n",
    "    SEARCH_API_KEY = '***'       # Search Service API KEY\n",
    "    SEARCH_INDEX_NAME = '***'    # 'travel-index-lucene', 'travel-index-microsoft', ...\n",
    "    SEARCH_CONFIGURATION = '***' # 'default'\n",
    "    \n",
    "    SYSTEM_INSTRUCTION = \"\"\"모든 답변은 한국어로 답하세요.\n",
    "    특기(스킬)에 대해 인용할 때에는 마크다운 표 형식으로 인용하세요.\n",
    "    특기의 이름은 검색 결과 맨 앞에 오도록 되어있습니다. \n",
    "    또, Citation link를 반드시 뒤에 첨부하세요.\n",
    "    \n",
    "    ---\n",
    "    \n",
    "    검색 결과 데이터는 순서대로 다음과 같이 해석됩니다.\n",
    "    - 특기명: 스킬(특기)의 이름입니다.\n",
    "    - 구분: 스킬의 구분(전투 혹은 일반)입니다.\n",
    "    - 태그: 스킬이 가진 태그입니다.\n",
    "    - 최대SR: 해당 스킬에 투자할 수있는 포인트의 상한입니다.\n",
    "    - 타이밍: 스킬을 쓰는 타이밍입니다.\n",
    "    - 판정: 스킬을 쓰기 위해 굴려야하는 판정 주사위 종류입니다.\n",
    "    - 대상: 스킬의 영향을 받는 대상입니다.\n",
    "    - 사정거리: 스킬의 사정거리입니다.\n",
    "    - 코스트: 스킬의 코스트(주로 헤이트 상승치나 인과력 소모치 등)입니다.\n",
    "    - 제한:  장면 혹은 시나리오 전체에 대한 사용 횟수 제한입니다.\n",
    "    - 효과: 스킬의 효과입니다.\n",
    "    - 해설: 스킬의 플레이버 텍스트입니다.\n",
    "    - 분야: 스킬의 직업 대구분입니다. 이 직업군만 이 스킬을 사용할 수 있습니다.\n",
    "    - 조건: 스킬의 직업 소구분입니다. 이 직업만 이 스킬을 사용할 수 있습니다.\"\"\"      # 시스템 지시사항(시스템 메시지)\n",
    "    # ===\n",
    "    \n",
    "    header = {\n",
    "        'Content-Type': 'application/json',\n",
    "        'api-key': API_KEY\n",
    "    }\n",
    "\n",
    "    body = {\n",
    "        \"data_sources\": [\n",
    "            {\n",
    "                \"type\": \"azure_search\",\n",
    "                \"parameters\": {\n",
    "                    \"endpoint\": SEARCH_ENDPOINT,\n",
    "                    \"index_name\": SEARCH_INDEX_NAME,\n",
    "                    \"semantic_configuration\": SEARCH_CONFIGURATION,\n",
    "                    \"query_type\": \"simple\",\n",
    "                    \"fields_mapping\": {},\n",
    "                    \"in_scope\": True,\n",
    "                    \"filter\": None,\n",
    "                    \"strictness\": 1,\n",
    "                    \"top_n_documents\": 10,\n",
    "                    \"authentication\": {\n",
    "                        \"type\": \"api_key\",\n",
    "                        \"key\": SEARCH_API_KEY\n",
    "                    }\n",
    "                }\n",
    "            }\n",
    "        ],\n",
    "        \"messages\": [\n",
    "            {\n",
    "                \"role\": \"system\",\n",
    "                \"content\": SYSTEM_INSTRUCTION\n",
    "            },\n",
    "            {\n",
    "                \"role\": \"user\",\n",
    "                \"content\": content\n",
    "            }\n",
    "        ],\n",
    "        \"temperature\": 0.6,\n",
    "        \"top_p\": 0.95,\n",
    "        \"max_tokens\": 800,\n",
    "    }\n",
    "    response = requests.post(ENDPOINT, headers=header, json=body)\n",
    "    message = response.json()['choices'][0]['message']\n",
    "    \n",
    "    return message['content']"
   ]
  },
  {
   "cell_type": "code",
   "execution_count": 16,
   "metadata": {},
   "outputs": [
    {
     "data": {
      "text/markdown": [
       "전사직의 무브 타이밍 특기는 다음과 같습니다:\n",
       "\n",
       "| 특기명        | 구분   | 최대SR | 타이밍 | 판정 | 대상 | 사정거리 | 코스트 | 제한 | 효과 | 해설 | Citation |\n",
       "|---------------|--------|--------|--------|------|------|----------|--------|------|------|------|----------|\n",
       "| 헤이트 2      | 전투   | 1.0    | 무브   | 없음 | 일반 | 광범위 20(선택) | 없음 | 없음 | 대상을 이동시키는 특기 | 발키리가 전사의 혼을 옮길 때 연결한다고 하는 선율을 연결하여 동료를 빠르게 이동시키는 특기 | [doc1], [doc2] |\n",
       "| 타이밍: 메이저 | 전투   | 1.0    | 무브   | 없음 | 일반 | 없음 | 없음 | 없음 | 적을 혼란시키는 움직임으로 시야를 벗어나 다음 공격의 포석으로 삼는 특기 | 적은 이어질 공격이 누구에게서 날아든 것인지조차 이해하지 못한 채 고통을 느끼게 될 것이다. | [doc3], [doc4] |\n",
       "| 타이밍: 무브 | 일반   | 3.0    | 무브   | 없음 | 자신 | 없음 | 없음 | 없음 | 즉시 [영부]를 1개 사용하며 효과를 발휘 | 화려한, 또는 기합이 담긴 자세에 호응하여 영부는 즉시 효과를 발휘한다. | [doc5], [doc6] |\n",
       "| 타이밍: 무브 | 전투   | 1.0    | 무브   | 없음 | 단일 | 설정 | 없음 | 없음 | 발이 빠르기로 유명한 위령의 가호를 내려 눈에도 비치지 않는 속도로 아군을 이동시키는 마법 | 발이 빠르기로 유명한 위령의 가호를 내려 눈에도 비치지 않는 속도로 아군을 이동시키는 마법 | [doc7], [doc8] |\n",
       "\n",
       "이 정보가 도움이 되길 바랍니다!"
      ],
      "text/plain": [
       "<IPython.core.display.Markdown object>"
      ]
     },
     "metadata": {},
     "output_type": "display_data"
    }
   ],
   "source": [
    "from IPython.display import Markdown\n",
    "\n",
    "result = ask_lhz('전사직 무브 타이밍 특기 뭐있더라?')\n",
    "display(Markdown(result))"
   ]
  },
  {
   "cell_type": "code",
   "execution_count": null,
   "metadata": {},
   "outputs": [],
   "source": []
  }
 ],
 "metadata": {
  "kernelspec": {
   "display_name": ".venv",
   "language": "python",
   "name": "python3"
  },
  "language_info": {
   "codemirror_mode": {
    "name": "ipython",
    "version": 3
   },
   "file_extension": ".py",
   "mimetype": "text/x-python",
   "name": "python",
   "nbconvert_exporter": "python",
   "pygments_lexer": "ipython3",
   "version": "3.12.7"
  }
 },
 "nbformat": 4,
 "nbformat_minor": 2
}
