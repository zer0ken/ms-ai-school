{
 "cells": [
  {
   "cell_type": "code",
   "execution_count": null,
   "metadata": {},
   "outputs": [],
   "source": [
    "import cv2\n",
    "from PIL import Image\n",
    "\n",
    "haarcascade_files = [\n",
    "    \"haarcascade_frontalface_default.xml\",\n",
    "    \"haarcascade_eye.xml\",\n",
    "    \"haarcascade_eye_tree_eyeglasses.xml\",\n",
    "    \"haarcascade_frontalcatface.xml\",\n",
    "    \"haarcascade_frontalcatface_extended.xml\",\n",
    "    \"haarcascade_frontalface_alt.xml\",\n",
    "    \"haarcascade_frontalface_alt2.xml\",\n",
    "    \"haarcascade_frontalface_alt_tree.xml\",\n",
    "    \"haarcascade_fullbody.xml\",\n",
    "    \"haarcascade_lefteye_2splits.xml\",\n",
    "    \"haarcascade_license_plate_rus_16stages.xml\",\n",
    "    \"haarcascade_lowerbody.xml\",\n",
    "    \"haarcascade_profileface.xml\",\n",
    "    \"haarcascade_righteye_2splits.xml\",\n",
    "    \"haarcascade_russian_plate_number.xml\",\n",
    "    \"haarcascade_smile.xml\",\n",
    "    \"haarcascade_upperbody.xml\"\n",
    "]\n",
    "\n",
    "def detect_face(original_image, haarcascade_file):\n",
    "    cascade_path = f'{cv2.data.haarcascades}//{haarcascade_file}'\n",
    "    face_cascade = cv2.CascadeClassifier(cascade_path)\n",
    "    image = cv2.cvtColor(original_image, cv2.COLOR_RGB2BGR)\n",
    "    \n",
    "    bbox = face_cascade.detectMultiScale(\n",
    "        image=image,\n",
    "        scaleFactor=1.1,\n",
    "        minNeighbors=5,\n",
    "        minSize=(30, 30)\n",
    "    )\n",
    "    for x, y, w, h in bbox:\n",
    "        cv2.rectangle(image, (x, y), (x+w, y+h), (0, 255, 0), 2)\n",
    "        \n",
    "    return cv2.cvtColor(image, cv2.COLOR_BGR2RGB)"
   ]
  },
  {
   "cell_type": "code",
   "execution_count": 23,
   "metadata": {},
   "outputs": [
    {
     "name": "stdout",
     "output_type": "stream",
     "text": [
      "* Running on local URL:  http://127.0.0.1:7869\n",
      "\n",
      "To create a public link, set `share=True` in `launch()`.\n"
     ]
    },
    {
     "data": {
      "text/html": [
       "<div><iframe src=\"http://127.0.0.1:7869/\" width=\"100%\" height=\"500\" allow=\"autoplay; camera; microphone; clipboard-read; clipboard-write;\" frameborder=\"0\" allowfullscreen></iframe></div>"
      ],
      "text/plain": [
       "<IPython.core.display.HTML object>"
      ]
     },
     "metadata": {},
     "output_type": "display_data"
    },
    {
     "data": {
      "text/plain": []
     },
     "execution_count": 23,
     "metadata": {},
     "output_type": "execute_result"
    }
   ],
   "source": [
    "import gradio as gr\n",
    "\n",
    "with gr.Blocks() as demo:\n",
    "    gr.Markdown('# 🙂 Open.cv 얼굴 검출')\n",
    "    haar_dropdown = gr.Dropdown(label=\"Haar CasCade M\", choices=haarcascade_files, value=haarcascade_files[0])\n",
    "    with gr.Row():\n",
    "        webcam_input = gr.Image(label=\"카메라\", sources=\"webcam\", streaming=True, mirror_webcam=False)\n",
    "        output_image = gr.Image(label=\"검출 화면\", streaming=True)\n",
    "\n",
    "    webcam_input.stream(detect_face, inputs=[webcam_input, haar_dropdown], outputs=[output_image])\n",
    "\n",
    "demo.launch()"
   ]
  },
  {
   "cell_type": "code",
   "execution_count": null,
   "metadata": {},
   "outputs": [],
   "source": []
  }
 ],
 "metadata": {
  "kernelspec": {
   "display_name": ".venv",
   "language": "python",
   "name": "python3"
  },
  "language_info": {
   "codemirror_mode": {
    "name": "ipython",
    "version": 3
   },
   "file_extension": ".py",
   "mimetype": "text/x-python",
   "name": "python",
   "nbconvert_exporter": "python",
   "pygments_lexer": "ipython3",
   "version": "3.12.7"
  }
 },
 "nbformat": 4,
 "nbformat_minor": 2
}
