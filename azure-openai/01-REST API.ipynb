{
 "cells": [
  {
   "cell_type": "markdown",
   "metadata": {},
   "source": [
    "# 📨 REST API"
   ]
  },
  {
   "cell_type": "code",
   "execution_count": 11,
   "metadata": {},
   "outputs": [
    {
     "name": "stdout",
     "output_type": "stream",
     "text": [
      "Requirement already satisfied: requests in g:\\zer0ken\\ms-ai-school\\.venv\\lib\\site-packages (from -r requirements.txt (line 1)) (2.32.3)\n",
      "Requirement already satisfied: charset-normalizer<4,>=2 in g:\\zer0ken\\ms-ai-school\\.venv\\lib\\site-packages (from requests->-r requirements.txt (line 1)) (3.4.1)\n",
      "Requirement already satisfied: idna<4,>=2.5 in g:\\zer0ken\\ms-ai-school\\.venv\\lib\\site-packages (from requests->-r requirements.txt (line 1)) (3.10)\n",
      "Requirement already satisfied: urllib3<3,>=1.21.1 in g:\\zer0ken\\ms-ai-school\\.venv\\lib\\site-packages (from requests->-r requirements.txt (line 1)) (2.3.0)\n",
      "Requirement already satisfied: certifi>=2017.4.17 in g:\\zer0ken\\ms-ai-school\\.venv\\lib\\site-packages (from requests->-r requirements.txt (line 1)) (2025.1.31)\n",
      "Note: you may need to restart the kernel to use updated packages.\n"
     ]
    },
    {
     "name": "stderr",
     "output_type": "stream",
     "text": [
      "\n",
      "[notice] A new release of pip is available: 24.2 -> 25.0.1\n",
      "[notice] To update, run: python.exe -m pip install --upgrade pip\n"
     ]
    }
   ],
   "source": [
    "%pip install -r requirements.txt"
   ]
  },
  {
   "cell_type": "code",
   "execution_count": null,
   "metadata": {},
   "outputs": [],
   "source": [
    "import requests\n",
    "\n",
    "def ask(content):\n",
    "    header = {\n",
    "        'Content-Type': 'application/json',\n",
    "        'api-key': '<API KEY를 여기에 입력하세요>'\n",
    "    }\n",
    "\n",
    "    body = {\n",
    "        'messages': [\n",
    "            {\n",
    "                'role': 'system',\n",
    "                'content': [\n",
    "                    {\n",
    "                        'type': 'text',\n",
    "                        'text': '반말로만 말해. 차분하게 말해. 느낌표를 쓰지 마.'\n",
    "                    }\n",
    "                ]\n",
    "            },\n",
    "            {\n",
    "                'role': 'user',\n",
    "                'content': [\n",
    "                    {\n",
    "                        'type': 'text',\n",
    "                        'text': content\n",
    "                    }\n",
    "                ]\n",
    "            }\n",
    "        ],\n",
    "        'temperature': 0.7,\n",
    "        'top_p': 0.95,\n",
    "        'max_tokens': 800\n",
    "    }\n",
    "    endpoint_url = '<엔드포인트 URL을 여기에 입력하세요>'\n",
    "    response = requests.post(endpoint_url, headers=header, json=body)\n",
    "\n",
    "    message = response.json()['choices'][0]['message']\n",
    "    return message['content']"
   ]
  },
  {
   "cell_type": "code",
   "execution_count": 10,
   "metadata": {},
   "outputs": [
    {
     "name": "stdout",
     "output_type": "stream",
     "text": [
      ">>> 대전 맛집 투어 일정을 마크다운형식으로 정리해줘\n"
     ]
    },
    {
     "data": {
      "text/markdown": [
       "# 대전 맛집 투어 일정\n",
       "\n",
       "## 1일차\n",
       "### 아침\n",
       "- **성심당 본점**\n",
       "  - 주소: 대전광역시 중구 은행동 145\n",
       "  - 추천 메뉴: 튀김소보로, 부추빵\n",
       "\n",
       "### 점심\n",
       "- **오씨칼국수**\n",
       "  - 주소: 대전광역시 서구 둔산동 1335\n",
       "  - 추천 메뉴: 칼국수, 만두\n",
       "\n",
       "### 저녁\n",
       "- **한밭집**\n",
       "  - 주소: 대전광역시 동구 중동 78-2\n",
       "  - 추천 메뉴: 갈비찜, 냉면\n",
       "\n",
       "## 2일차\n",
       "### 아침\n",
       "- **카페베네 대전둔산점**\n",
       "  - 주소: 대전광역시 서구 둔산동 1450\n",
       "  - 추천 메뉴: 아메리카노, 허니브레드\n",
       "\n",
       "### 점심\n",
       "- **성수동 돼지불백**\n",
       "  - 주소: 대전광역시 유성구 봉명동 536-5\n",
       "  - 추천 메뉴: 돼지불백, 된장찌개\n",
       "\n",
       "### 저녁\n",
       "- **대게나라**\n",
       "  - 주소: 대전광역시 중구 선화동 71-4\n",
       "  - 추천 메뉴: 대게, 회\n",
       "\n",
       "## 3일차\n",
       "### 아침\n",
       "- **커피명가 대전점**\n",
       "  - 주소: 대전광역시 유성구 궁동 412-3\n",
       "  - 추천 메뉴: 카페라떼, 샌드위치\n",
       "\n",
       "### 점심\n",
       "- **흥남집**\n",
       "  - 주소: 대전광역시 중구 대흥동 450-1\n",
       "  - 추천 메뉴: 냉면, 비빔밥\n",
       "\n",
       "### 저녁\n",
       "- **쌍용각**\n",
       "  - 주소: 대전광역시 동구 신안동 188-10\n",
       "  - 추천 메뉴: 짜장면, 탕수육\n",
       "\n",
       "이렇게 정리하면 될 것 같아. 각 장소의 주소와 추천 메뉴를 참고해서 다녀오면 좋을 것 같아."
      ],
      "text/plain": [
       "<IPython.core.display.Markdown object>"
      ]
     },
     "metadata": {},
     "output_type": "display_data"
    }
   ],
   "source": [
    "from IPython.display import Markdown\n",
    "\n",
    "while True:\n",
    "    content = input()\n",
    "    if not content:\n",
    "        break\n",
    "    print('>>>', content)\n",
    "    display(Markdown(ask(content)))"
   ]
  }
 ],
 "metadata": {
  "kernelspec": {
   "display_name": ".venv",
   "language": "python",
   "name": "python3"
  },
  "language_info": {
   "codemirror_mode": {
    "name": "ipython",
    "version": 3
   },
   "file_extension": ".py",
   "mimetype": "text/x-python",
   "name": "python",
   "nbconvert_exporter": "python",
   "pygments_lexer": "ipython3",
   "version": "3.12.7"
  }
 },
 "nbformat": 4,
 "nbformat_minor": 2
}
