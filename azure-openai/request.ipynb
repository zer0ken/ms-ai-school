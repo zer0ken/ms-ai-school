{
 "cells": [
  {
   "cell_type": "markdown",
   "metadata": {},
   "source": [
    "# 📨 Request"
   ]
  },
  {
   "cell_type": "code",
   "execution_count": null,
   "metadata": {},
   "outputs": [],
   "source": [
    "%pip install requests"
   ]
  },
  {
   "cell_type": "markdown",
   "metadata": {},
   "source": [
    "## 🗯️ GPT-4"
   ]
  },
  {
   "cell_type": "code",
   "execution_count": null,
   "metadata": {},
   "outputs": [],
   "source": [
    "import requests\n",
    "\n",
    "def ask(content):\n",
    "    header = {\n",
    "        'Content-Type': 'application/json',\n",
    "        'api-key': '<API KEY를 여기에 입력하세요>'\n",
    "    }\n",
    "\n",
    "    body = {\n",
    "        'messages': [\n",
    "            {\n",
    "                'role': 'system',\n",
    "                'content': [\n",
    "                    {\n",
    "                        'type': 'text',\n",
    "                        'text': '반말로만 말해. 차분하게 말해. 느낌표를 쓰지 마.'\n",
    "                    }\n",
    "                ]\n",
    "            },\n",
    "            {\n",
    "                'role': 'user',\n",
    "                'content': [\n",
    "                    {\n",
    "                        'type': 'text',\n",
    "                        'text': content\n",
    "                    }\n",
    "                ]\n",
    "            }\n",
    "        ],\n",
    "        'temperature': 0.7,\n",
    "        'top_p': 0.95,\n",
    "        'max_tokens': 800\n",
    "    }\n",
    "    endpoint_url = '<엔드포인트 URL을 여기에 입력하세요>'\n",
    "    response = requests.post(endpoint_url, headers=header, json=body)\n",
    "\n",
    "    message = response.json()['choices'][0]['message']\n",
    "    return message['content']"
   ]
  },
  {
   "cell_type": "code",
   "execution_count": null,
   "metadata": {},
   "outputs": [],
   "source": [
    "from IPython.display import Markdown\n",
    "\n",
    "while True:\n",
    "    content = input()\n",
    "    if not content:\n",
    "        break\n",
    "    print('>>>', content)\n",
    "    display(Markdown(ask(content)))"
   ]
  },
  {
   "cell_type": "markdown",
   "metadata": {},
   "source": [
    "## 🎨 Dall-E 3"
   ]
  },
  {
   "cell_type": "code",
   "execution_count": null,
   "metadata": {},
   "outputs": [],
   "source": [
    "\n",
    "def draw(content):\n",
    "    header = {\n",
    "        'Content-Type': 'application/json',\n",
    "        'api-key': '<API KEY를 여기에 입력하세요>'\n",
    "    }\n",
    "\n",
    "    body = {\n",
    "        'prompt': content\n",
    "    }\n",
    "    endpoint_url = '<엔드포인트 URL을 여기에 입력하세요>'\n",
    "    response = requests.post(endpoint_url, headers=header, json=body)\n",
    "\n",
    "    if response.status_code:\n",
    "        return\n",
    "    response = response.json()\n",
    "\n",
    "    return response['data'][0]['url']"
   ]
  },
  {
   "cell_type": "code",
   "execution_count": null,
   "metadata": {},
   "outputs": [],
   "source": [
    "from IPython.display import Markdown\n",
    "\n",
    "result = draw('샴고양이')\n",
    "if result:\n",
    "    display(Markdown(f'![]({result})'))\n",
    "else:\n",
    "    print('요청 횟수가 초과되었습니다.')"
   ]
  },
  {
   "cell_type": "markdown",
   "metadata": {},
   "source": [
    "## 📚 RAG"
   ]
  },
  {
   "cell_type": "code",
   "execution_count": null,
   "metadata": {},
   "outputs": [],
   "source": [
    "import requests\n",
    "\n",
    "\n",
    "def ask_rag(content):\n",
    "    header = {\n",
    "        'Content-Type': 'application/json',\n",
    "        'api-key': '<여기에 채팅 API KEY를 입력하세요>'\n",
    "    }\n",
    "\n",
    "    body = {\n",
    "        \"data_sources\": [\n",
    "            {\n",
    "                \"type\": \"azure_search\",\n",
    "                \"parameters\": {\n",
    "                    \"endpoint\": \"<여기에 검색 서비스 엔드포인트 URL을 입력하세요>\",\n",
    "                    \"index_name\": \"<여기에 사용할 인덱스 이름을 입력하세요>\",\n",
    "                    \"semantic_configuration\": \"default\",\n",
    "                    \"query_type\": \"simple\",\n",
    "                    \"fields_mapping\": {},\n",
    "                    \"in_scope\": True,\n",
    "                    \"role_information\": \"\",\n",
    "                    \"filter\": None,\n",
    "                    \"strictness\": 1,\n",
    "                    \"top_n_documents\": 5,\n",
    "                    \"authentication\": {\n",
    "                        \"type\": \"api_key\",\n",
    "                        \"key\": \"<여기에 검색 서비스에 대한 API KEY를 입력하세요>\"\n",
    "                    }\n",
    "                }\n",
    "            }\n",
    "        ],\n",
    "        \"messages\": [\n",
    "            {\n",
    "                \"role\": \"system\",\n",
    "                \"content\": \"\"\n",
    "            },\n",
    "            {\n",
    "                \"role\": \"user\",\n",
    "                \"content\": content\n",
    "            }\n",
    "        ],\n",
    "        \"temperature\": 0.7,\n",
    "        \"top_p\": 0.95,\n",
    "        \"max_tokens\": 800,\n",
    "    }\n",
    "    endpoint_url = '<여기에 채팅 엔드포인트 URL을 입력하세요>'\n",
    "    response = requests.post(endpoint_url, headers=header, json=body)\n",
    "    message = response.json()['choices'][0]['message']\n",
    "    \n",
    "    return message['content']"
   ]
  },
  {
   "cell_type": "code",
   "execution_count": 37,
   "metadata": {},
   "outputs": [
    {
     "data": {
      "text/markdown": [
       "추천할 만한 데이트 명소는 다음과 같습니다:\n",
       "\n",
       "1. **남해 독일마을**  \n",
       "   - 아름다운 경치와 독일식 건축물들이 인상적인 곳으로, 다양한 음식과 카페가 있어 데이트에 적합합니다.  \n",
       "   - 전화: 055-867-0706 \n",
       "\n",
       "2. **남해 해수욕장**  \n",
       "   - 여름철에 특히 인기 있는 해수욕장으로, 해변에서 즐길 수 있는 다양한 액티비티가 마련되어 있습니다.  \n",
       "   - 전화: 055-867-2021 [doc2]\n",
       "\n",
       "3. **남해 금산**  \n",
       "   - 경치가 아름답고 하이킹을 즐길 수 있는 곳으로, 자연을 만끽하며 데이트하기 좋은 장소입니다.  \n",
       "   - 전화: 055-860-8631 [doc3]\n",
       "\n",
       "4. **남해 온천**  \n",
       "   - 편안한 온천에서 휴식을 취하면서 데이트를 즐길 수 있는 곳으로, 다양한 스파 서비스가 제공됩니다.  \n",
       "   - 전화: 055-860-8631 [doc4]\n",
       "\n",
       "5. **남해 바다 전망대**  \n",
       "   - 일몰이나 일출을 감상할 수 있는 멋진 장소로, 특별한 순간을 공유하기에 좋은 곳입니다.  \n",
       "   - 전화: 055-860-8631 [doc5]\n",
       "\n",
       "각 명소는 독특한 매력을 가지고 있으니, 취향에 맞는 장소를 선택해보세요!"
      ],
      "text/plain": [
       "<IPython.core.display.Markdown object>"
      ]
     },
     "metadata": {},
     "output_type": "display_data"
    }
   ],
   "source": [
    "from IPython.display import Markdown\n",
    "\n",
    "result = ask_rag('데이트 명소 추천해줘.')\n",
    "display(Markdown(result))"
   ]
  }
 ],
 "metadata": {
  "kernelspec": {
   "display_name": ".venv",
   "language": "python",
   "name": "python3"
  },
  "language_info": {
   "codemirror_mode": {
    "name": "ipython",
    "version": 3
   },
   "file_extension": ".py",
   "mimetype": "text/x-python",
   "name": "python",
   "nbconvert_exporter": "python",
   "pygments_lexer": "ipython3",
   "version": "3.12.7"
  }
 },
 "nbformat": 4,
 "nbformat_minor": 2
}
