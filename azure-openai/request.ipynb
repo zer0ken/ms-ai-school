{
 "cells": [
  {
   "cell_type": "markdown",
   "metadata": {},
   "source": [
    "# 📨 Request"
   ]
  },
  {
   "cell_type": "code",
   "execution_count": null,
   "metadata": {},
   "outputs": [],
   "source": [
    "%pip install requests"
   ]
  },
  {
   "cell_type": "markdown",
   "metadata": {},
   "source": [
    "## 🗯️ GPT-4"
   ]
  },
  {
   "cell_type": "code",
   "execution_count": null,
   "metadata": {},
   "outputs": [],
   "source": [
    "import requests\n",
    "\n",
    "def ask(content):\n",
    "    header = {\n",
    "        'Content-Type': 'application/json',\n",
    "        'api-key': '<API KEY를 여기에 입력하세요>'\n",
    "    }\n",
    "\n",
    "    body = {\n",
    "        'messages': [\n",
    "            {\n",
    "                'role': 'system',\n",
    "                'content': [\n",
    "                    {\n",
    "                        'type': 'text',\n",
    "                        'text': '반말로만 말해. 차분하게 말해. 느낌표를 쓰지 마.'\n",
    "                    }\n",
    "                ]\n",
    "            },\n",
    "            {\n",
    "                'role': 'user',\n",
    "                'content': [\n",
    "                    {\n",
    "                        'type': 'text',\n",
    "                        'text': content\n",
    "                    }\n",
    "                ]\n",
    "            }\n",
    "        ],\n",
    "        'temperature': 0.7,\n",
    "        'top_p': 0.95,\n",
    "        'max_tokens': 800\n",
    "    }\n",
    "    endpoint_url = '<엔드포인트 URL을 여기에 입력하세요>'\n",
    "    response = requests.post(endpoint_url, headers=header, json=body)\n",
    "\n",
    "    message = response.json()['choices'][0]['message']\n",
    "    return message['content']"
   ]
  },
  {
   "cell_type": "code",
   "execution_count": null,
   "metadata": {},
   "outputs": [],
   "source": [
    "from IPython.display import Markdown\n",
    "\n",
    "while True:\n",
    "    content = input()\n",
    "    if not content:\n",
    "        break\n",
    "    print('>>>', content)\n",
    "    display(Markdown(ask(content)))"
   ]
  },
  {
   "cell_type": "markdown",
   "metadata": {},
   "source": [
    "## 🎨 Dall-E 3"
   ]
  },
  {
   "cell_type": "code",
   "execution_count": null,
   "metadata": {},
   "outputs": [],
   "source": [
    "\n",
    "def draw(content):\n",
    "    header = {\n",
    "        'Content-Type': 'application/json',\n",
    "        'api-key': '<API KEY를 여기에 입력하세요>'\n",
    "    }\n",
    "\n",
    "    body = {\n",
    "        'prompt': content\n",
    "    }\n",
    "    endpoint_url = '<엔드포인트 URL을 여기에 입력하세요>'\n",
    "    response = requests.post(endpoint_url, headers=header, json=body)\n",
    "\n",
    "    if response.status_code:\n",
    "        return\n",
    "    response = response.json()\n",
    "\n",
    "    return response['data'][0]['url']"
   ]
  },
  {
   "cell_type": "code",
   "execution_count": null,
   "metadata": {},
   "outputs": [],
   "source": [
    "from IPython.display import Markdown\n",
    "\n",
    "result = draw('샴고양이')\n",
    "if result:\n",
    "    display(Markdown(f'![]({result})'))\n",
    "else:\n",
    "    print('요청 횟수가 초과되었습니다.')"
   ]
  },
  {
   "cell_type": "markdown",
   "metadata": {},
   "source": [
    "## 📚 RAG"
   ]
  },
  {
   "cell_type": "code",
   "execution_count": null,
   "metadata": {},
   "outputs": [],
   "source": [
    "import requests\n",
    "\n",
    "\n",
    "def ask_rag(content):\n",
    "    # 아래 변수에 환경에 맞는 값을 할당하세요 \n",
    "    ENDPOINT = '***' # 엔드포인트(채팅 플레이그라운드)             \n",
    "    API_KEY = '***'  # API KEY(채팅 플레이그라운드)\n",
    "\n",
    "    SEARCH_ENDPOINT = '***'      # Search Service 엔드포인트\n",
    "    SEARCH_API_KEY = '***'       # Search Service API KEY\n",
    "    SEARCH_INDEX_NAME = '***'    # 'travel-index-lucene', 'travel-index-microsoft', ...\n",
    "    SEARCH_CONFIGURATION = '***' # 'default'\n",
    "    \n",
    "    SYSTEM_INSTRUCTION = ''      # 시스템 지시사항(시스템 메시지)\n",
    "    # ===\n",
    "    \n",
    "    header = {\n",
    "        'Content-Type': 'application/json',\n",
    "        'api-key': API_KEY\n",
    "    }\n",
    "\n",
    "    body = {\n",
    "        \"data_sources\": [\n",
    "            {\n",
    "                \"type\": \"azure_search\",\n",
    "                \"parameters\": {\n",
    "                    \"endpoint\": SEARCH_ENDPOINT,\n",
    "                    \"index_name\": SEARCH_INDEX_NAME,\n",
    "                    \"semantic_configuration\": SEARCH_CONFIGURATION,\n",
    "                    \"query_type\": \"simple\",\n",
    "                    \"fields_mapping\": {},\n",
    "                    \"in_scope\": True,\n",
    "                    \"filter\": None,\n",
    "                    \"strictness\": 1,\n",
    "                    \"top_n_documents\": 3,\n",
    "                    \"authentication\": {\n",
    "                        \"type\": \"api_key\",\n",
    "                        \"key\": SEARCH_API_KEY\n",
    "                    }\n",
    "                }\n",
    "            }\n",
    "        ],\n",
    "        \"messages\": [\n",
    "            {\n",
    "                \"role\": \"system\",\n",
    "                \"content\": SYSTEM_INSTRUCTION\n",
    "            },\n",
    "            {\n",
    "                \"role\": \"user\",\n",
    "                \"content\": content\n",
    "            }\n",
    "        ],\n",
    "        \"temperature\": 0.2,\n",
    "        \"top_p\": 0.95,\n",
    "        \"max_tokens\": 800,\n",
    "    }\n",
    "    response = requests.post(ENDPOINT, headers=header, json=body)\n",
    "    message = response.json()['choices'][0]['message']\n",
    "    \n",
    "    return message['content']"
   ]
  },
  {
   "cell_type": "code",
   "execution_count": 72,
   "metadata": {},
   "outputs": [
    {
     "data": {
      "text/markdown": [
       "데이트를 위한 명소로는 다음과 같은 장소들을 추천합니다:\n",
       "\n",
       "1. **남해 다랭이마을**: 아름다운 경치를 감상할 수 있는 곳으로, 다랭이논과 바다가 어우러진 풍경이 매력적입니다. 특히 해질 무렵의 경치가 로맨틱합니다 .\n",
       "\n",
       "2. **해운대 해수욕장**: 부산의 대표적인 해변으로, 여름철에는 해수욕을 즐길 수 있고, 해변가의 카페와 레스토랑에서 저녁 식사를 하며 바다를 감상할 수 있습니다 .\n",
       "\n",
       "3. **가평 아침고요수목원**: 다양한 식물과 꽃들이 있는 수목원으로, 사계절 내내 아름다운 경관을 제공합니다. 특히 봄과 가을에 방문하면 더욱 좋습니다 [doc3].\n",
       "\n",
       "4. **서울숲**: 도심 속에서 자연을 느낄 수 있는 공간으로, 산책로와 자전거 도로가 잘 조성되어 있어 여유로운 데이트를 즐기기에 적합합니다 [doc1].\n",
       "\n",
       "이 외에도 다양한 명소가 있으니, 원하는 분위기에 맞춰 선택해 보세요!"
      ],
      "text/plain": [
       "<IPython.core.display.Markdown object>"
      ]
     },
     "metadata": {},
     "output_type": "display_data"
    }
   ],
   "source": [
    "from IPython.display import Markdown\n",
    "\n",
    "result = ask_rag('데이트 명소 추천해줘.')\n",
    "display(Markdown(result))"
   ]
  }
 ],
 "metadata": {
  "kernelspec": {
   "display_name": ".venv",
   "language": "python",
   "name": "python3"
  },
  "language_info": {
   "codemirror_mode": {
    "name": "ipython",
    "version": 3
   },
   "file_extension": ".py",
   "mimetype": "text/x-python",
   "name": "python",
   "nbconvert_exporter": "python",
   "pygments_lexer": "ipython3",
   "version": "3.12.7"
  }
 },
 "nbformat": 4,
 "nbformat_minor": 2
}
