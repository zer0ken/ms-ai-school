{
 "cells": [
  {
   "cell_type": "markdown",
   "metadata": {},
   "source": [
    "# 🕸️ Browser"
   ]
  },
  {
   "cell_type": "markdown",
   "metadata": {},
   "source": [
    "### 📥 라이브러리 준비\n",
    "\n",
    "> 적절한 커널을 선택한 뒤에 실행하세요. "
   ]
  },
  {
   "cell_type": "code",
   "execution_count": 62,
   "metadata": {},
   "outputs": [
    {
     "name": "stdout",
     "output_type": "stream",
     "text": [
      "Requirement already satisfied: pip in g:\\zer0ken\\ms-ai-school\\.venv\\lib\\site-packages (25.0)\n",
      "Requirement already satisfied: selenium==4.17.0 in g:\\zer0ken\\ms-ai-school\\.venv\\lib\\site-packages (4.17.0)\n",
      "Requirement already satisfied: typing-extensions in g:\\zer0ken\\ms-ai-school\\.venv\\lib\\site-packages (4.12.2)\n",
      "Collecting openpyxl\n",
      "  Downloading openpyxl-3.1.5-py2.py3-none-any.whl.metadata (2.5 kB)\n",
      "Requirement already satisfied: urllib3<3,>=1.26 in g:\\zer0ken\\ms-ai-school\\.venv\\lib\\site-packages (from urllib3[socks]<3,>=1.26->selenium==4.17.0) (2.3.0)\n",
      "Requirement already satisfied: trio~=0.17 in g:\\zer0ken\\ms-ai-school\\.venv\\lib\\site-packages (from selenium==4.17.0) (0.28.0)\n",
      "Requirement already satisfied: trio-websocket~=0.9 in g:\\zer0ken\\ms-ai-school\\.venv\\lib\\site-packages (from selenium==4.17.0) (0.11.1)\n",
      "Requirement already satisfied: certifi>=2021.10.8 in g:\\zer0ken\\ms-ai-school\\.venv\\lib\\site-packages (from selenium==4.17.0) (2024.12.14)\n",
      "Collecting et-xmlfile (from openpyxl)\n",
      "  Downloading et_xmlfile-2.0.0-py3-none-any.whl.metadata (2.7 kB)\n",
      "Requirement already satisfied: attrs>=23.2.0 in g:\\zer0ken\\ms-ai-school\\.venv\\lib\\site-packages (from trio~=0.17->selenium==4.17.0) (25.1.0)\n",
      "Requirement already satisfied: sortedcontainers in g:\\zer0ken\\ms-ai-school\\.venv\\lib\\site-packages (from trio~=0.17->selenium==4.17.0) (2.4.0)\n",
      "Requirement already satisfied: idna in g:\\zer0ken\\ms-ai-school\\.venv\\lib\\site-packages (from trio~=0.17->selenium==4.17.0) (3.10)\n",
      "Requirement already satisfied: outcome in g:\\zer0ken\\ms-ai-school\\.venv\\lib\\site-packages (from trio~=0.17->selenium==4.17.0) (1.3.0.post0)\n",
      "Requirement already satisfied: sniffio>=1.3.0 in g:\\zer0ken\\ms-ai-school\\.venv\\lib\\site-packages (from trio~=0.17->selenium==4.17.0) (1.3.1)\n",
      "Requirement already satisfied: cffi>=1.14 in g:\\zer0ken\\ms-ai-school\\.venv\\lib\\site-packages (from trio~=0.17->selenium==4.17.0) (1.17.1)\n",
      "Requirement already satisfied: wsproto>=0.14 in g:\\zer0ken\\ms-ai-school\\.venv\\lib\\site-packages (from trio-websocket~=0.9->selenium==4.17.0) (1.2.0)\n",
      "Requirement already satisfied: pysocks!=1.5.7,<2.0,>=1.5.6 in g:\\zer0ken\\ms-ai-school\\.venv\\lib\\site-packages (from urllib3[socks]<3,>=1.26->selenium==4.17.0) (1.7.1)\n",
      "Requirement already satisfied: pycparser in g:\\zer0ken\\ms-ai-school\\.venv\\lib\\site-packages (from cffi>=1.14->trio~=0.17->selenium==4.17.0) (2.22)\n",
      "Requirement already satisfied: h11<1,>=0.9.0 in g:\\zer0ken\\ms-ai-school\\.venv\\lib\\site-packages (from wsproto>=0.14->trio-websocket~=0.9->selenium==4.17.0) (0.14.0)\n",
      "Downloading openpyxl-3.1.5-py2.py3-none-any.whl (250 kB)\n",
      "Downloading et_xmlfile-2.0.0-py3-none-any.whl (18 kB)\n",
      "Installing collected packages: et-xmlfile, openpyxl\n",
      "Successfully installed et-xmlfile-2.0.0 openpyxl-3.1.5\n"
     ]
    }
   ],
   "source": [
    "!python.exe -m pip install --upgrade pip\n",
    "!pip install selenium==4.17.0, typing-extensions openpyxl"
   ]
  },
  {
   "cell_type": "code",
   "execution_count": 2,
   "metadata": {},
   "outputs": [
    {
     "name": "stdout",
     "output_type": "stream",
     "text": [
      "Name: selenium\n",
      "Version: 4.17.0\n",
      "Summary: \n",
      "Home-page: https://www.selenium.dev\n",
      "Author: \n",
      "Author-email: \n",
      "License: Apache 2.0\n",
      "Location: g:\\zer0ken\\ms-ai-school\\.venv\\Lib\\site-packages\n",
      "Requires: certifi, trio, trio-websocket, urllib3\n",
      "Required-by: \n"
     ]
    }
   ],
   "source": [
    "!pip show selenium"
   ]
  },
  {
   "cell_type": "markdown",
   "metadata": {},
   "source": [
    "## ✅ Selenium"
   ]
  },
  {
   "cell_type": "markdown",
   "metadata": {},
   "source": [
    "### 📟 웹 드라이버 객체 생성\n",
    "- 웹 드라이버 : 브라우저 조작을 위한 도구입니다.\n",
    "- `selenium.webdriver` 모듈에서 다양한 브라우저를 제어하기 위한 클래스를 제공합니다.\n",
    "- Chrome, Edge는 모두 Chromium 엔진 기반 브라우저이기 때문에 사용법이 동일합니다."
   ]
  },
  {
   "cell_type": "code",
   "execution_count": 21,
   "metadata": {},
   "outputs": [],
   "source": [
    "# 크롬, 엣지 웹 드라이버 클래스 import\n",
    "from selenium.webdriver import Chrome, Edge\n",
    "\n",
    "# 웹 드라이버 객체 생성\n",
    "chrome_driver = Chrome()\n",
    "edge_driver = Edge()\n",
    "drivers = [chrome_driver, edge_driver]"
   ]
  },
  {
   "cell_type": "markdown",
   "metadata": {},
   "source": [
    "### ⌨️ 브라우저 제어\n",
    "- `get(URL)` : 페이지로 이동하기\n",
    "- `back()` : 뒤로가기\n",
    "- `forward()` : 앞으로가기\n",
    "- `refresh()` : 새로고침\n",
    "- `maximize_window()` : 브라우저크기 최대화\n",
    "- `minimize_window()` : 브라우저크기 최소화\n",
    "- `close()` : 웹드라이버로 생성한 현재 창 종료\n",
    "- `quit()` : 웹드라이버로 생성한 모든 창 종료"
   ]
  },
  {
   "cell_type": "code",
   "execution_count": 22,
   "metadata": {},
   "outputs": [],
   "source": [
    "# 페이지 이동1\n",
    "for d in drivers:\n",
    "    d.get('https://google.com')\n",
    "    d.get('https://naver.com')\n",
    "\n",
    "# 새로고침\n",
    "for d in drivers:\n",
    "    d.refresh()\n",
    "\n",
    "# 이전으로 가기\n",
    "for d in drivers:\n",
    "    d.back()\n",
    "    \n",
    "# 웹드라이버로 생성한 모든 창 종료\n",
    "for d in drivers:\n",
    "    d.close()"
   ]
  },
  {
   "cell_type": "markdown",
   "metadata": {},
   "source": [
    "### 🔍 요소 가져오기\n",
    "- `find_element(요소선택방법, 선택자)` : 첫번째 요소 한개만만 가져오기\n",
    "- `find_elements(요소선택방법, 선택자)` : 요소 모두 가져오기 (리스트)"
   ]
  },
  {
   "cell_type": "code",
   "execution_count": 32,
   "metadata": {},
   "outputs": [
    {
     "data": {
      "text/plain": [
       "[<selenium.webdriver.remote.webelement.WebElement (session=\"2295cb172206b27081a9b6a03a6941b3\", element=\"f.EFE1475D6D88218303BE09DF6A022192.d.40782FA1CA70E7A68A35B1185BE6DC1E.e.99\")>,\n",
       " <selenium.webdriver.remote.webelement.WebElement (session=\"1324de9690088da624d12f3bf279c13a\", element=\"f.1507B7284675AD2813B1A73E543000F5.d.AB87840E85AE365E135B190938EE8019.e.3\")>]"
      ]
     },
     "execution_count": 32,
     "metadata": {},
     "output_type": "execute_result"
    }
   ],
   "source": [
    "from selenium.webdriver.common.by import By\n",
    "\n",
    "# 웹 드라이버 객체 생성\n",
    "chrome_driver = Chrome()\n",
    "edge_driver = Edge()\n",
    "drivers = [chrome_driver, edge_driver]\n",
    "\n",
    "# 이동하기 (http://www.naver.com)\n",
    "for d in drivers:\n",
    "    d.get('https://www.naver.com')\n",
    "\n",
    "# 검색창 선택하기\n",
    "search = []\n",
    "for d in drivers:\n",
    "    s = d.find_element(By.CSS_SELECTOR, '#query')\n",
    "    # 아래 코드와 동일합니다.\n",
    "    # search = d.find_element(By.ID, 'query')\n",
    "    \n",
    "    search.append(s)\n",
    "\n",
    "search"
   ]
  },
  {
   "cell_type": "markdown",
   "metadata": {},
   "source": [
    "### 🕹️ 요소 제어하기\n",
    "- `click()` : 요소 클릭\n",
    "- `send_keys()` : 키 입력"
   ]
  },
  {
   "cell_type": "code",
   "execution_count": 33,
   "metadata": {},
   "outputs": [],
   "source": [
    "from selenium.webdriver.common.keys import Keys\n",
    "\n",
    "for s in search:\n",
    "    s.click()\n",
    "    s.send_keys('인공지능\\n')\n",
    "\n",
    "\"\"\" \n",
    "# 이렇게도 할 수 있습니다.\n",
    "\n",
    "for s in search:\n",
    "    s.click()\n",
    "    s.send_keys('인공지능')\n",
    "    s.send_keys(Keys.ENTER)\n",
    "\"\"\";"
   ]
  },
  {
   "cell_type": "code",
   "execution_count": 34,
   "metadata": {},
   "outputs": [],
   "source": [
    "# 브라우저 닫기\n",
    "for d in drivers:\n",
    "    d.quit()"
   ]
  },
  {
   "cell_type": "markdown",
   "metadata": {},
   "source": [
    "## 💸 네이버페이 증권"
   ]
  },
  {
   "cell_type": "markdown",
   "metadata": {},
   "source": [
    "### ✂️ 스크랩"
   ]
  },
  {
   "cell_type": "code",
   "execution_count": 76,
   "metadata": {},
   "outputs": [],
   "source": [
    "from selenium.webdriver.common.by import By\n",
    "\n",
    "def scrap_articles(driver, url):\n",
    "    # url이 가리키는 페이지로 이동합니다.\n",
    "    driver.get(url)\n",
    "    \n",
    "    # 페이지에서 .block1 클래스를 가진 모든 요소를 리스트로 받습니다.\n",
    "    raw_articles = driver.find_elements(By.CSS_SELECTOR, '.block1')\n",
    "    articles = []\n",
    "\n",
    "    # .block1 클래스를 가진 요소 안에서 다른 요소들을 찾아 데이터를 구성합니다.\n",
    "    for article in raw_articles:\n",
    "        subject = article.find_element(By.CSS_SELECTOR, '.articleSubject').text\n",
    "        summary = article.find_element(By.CSS_SELECTOR, '.articleSummary').text\n",
    "        press = article.find_element(By.CSS_SELECTOR, '.press').text\n",
    "        wdate = article.find_element(By.CSS_SELECTOR, '.wdate').text\n",
    "        link = article.find_element(By.CSS_SELECTOR, '.articleSubject>a').get_attribute('href')\n",
    "\n",
    "        data = {\n",
    "            'subject': subject,\n",
    "            'summary': summary,\n",
    "            'press': press,\n",
    "            'wdate': wdate,\n",
    "            'link': link\n",
    "        }\n",
    "        articles.append(data)\n",
    "    \n",
    "    return articles"
   ]
  },
  {
   "cell_type": "code",
   "execution_count": 119,
   "metadata": {},
   "outputs": [
    {
     "data": {
      "text/plain": [
       "{'subject': \"저가매수 타이밍? '딥시크 타격' HD현대일렉트릭 순매수 1위[주식 초고수는 지금]\",\n",
       " 'summary': '미래에셋증권(006800)에서 거래하는 고수익 투자자들이 24일 오전 가장 많이 순매수한 종목은 HD현대일렉트릭(267260)으로 나타.. 서울경제 | 2025-01-31 11:53:10',\n",
       " 'press': '서울경제',\n",
       " 'wdate': '2025-01-31 11:53:10',\n",
       " 'link': 'https://n.news.naver.com/mnews/article/011/0004445246'}"
      ]
     },
     "metadata": {},
     "output_type": "display_data"
    },
    {
     "data": {
      "text/plain": [
       "{'subject': '딥시크발 ‘딥쇼크’… SK하이닉스 장중 11% 급락',\n",
       " 'summary': '코스피 전체는 0.1% 하락 출발 한미반도체 6%·삼성전자 2%↓ 인프라 관련 투자 감소 우려에 전력기기 종목들도 낙폭 커져 미국 3대.. 문화일보 | 2025-01-31 11:47:31',\n",
       " 'press': '문화일보',\n",
       " 'wdate': '2025-01-31 11:47:31',\n",
       " 'link': 'https://n.news.naver.com/mnews/article/021/0002687009'}"
      ]
     },
     "metadata": {},
     "output_type": "display_data"
    },
    {
     "data": {
      "text/plain": [
       "{'subject': 'SEC, 비트코인·이더리움 혼합 ETF 승인…알트코인 ETF 출시 가속화 기대',\n",
       " 'summary': '비트와이즈, 도지코인 ETF도 신청 미국에서 가상자산을 담고 있는 상장지수펀드(ETF) 출시가 탄력을 받고 있다. 이에 따라 알트코인 .. 매일경제 | 2025-01-31 11:45:08',\n",
       " 'press': '매일경제',\n",
       " 'wdate': '2025-01-31 11:45:08',\n",
       " 'link': 'https://n.news.naver.com/mnews/article/009/0005436313'}"
      ]
     },
     "metadata": {},
     "output_type": "display_data"
    }
   ],
   "source": [
    "# driver = Chrome()\n",
    "# 저는 엣지를 사용하겠습니다.\n",
    "driver = Edge()\n",
    "url = 'https://finance.naver.com/news/mainnews.naver'\n",
    "\n",
    "articles = scrap_articles(driver, url)\n",
    "\n",
    "for article in articles[:3]:\n",
    "    display(article)"
   ]
  },
  {
   "cell_type": "markdown",
   "metadata": {},
   "source": [
    "### 🏷️ JSON으로 저장하기"
   ]
  },
  {
   "cell_type": "code",
   "execution_count": 68,
   "metadata": {},
   "outputs": [],
   "source": [
    "import os\n",
    "import json\n",
    "\n",
    "# 출력할 디렉토리를 먼저 생성해줍시다.\n",
    "os.makedirs('./data', exist_ok=True)\n",
    "\n",
    "with open('./data/finance.json', 'w', encoding='utf-8') as f:\n",
    "    json.dump(articles, f, ensure_ascii=False, indent=2)"
   ]
  },
  {
   "cell_type": "markdown",
   "metadata": {},
   "source": [
    "### 📊 데이터프레임으로 저장하기"
   ]
  },
  {
   "cell_type": "code",
   "execution_count": 69,
   "metadata": {},
   "outputs": [
    {
     "data": {
      "text/html": [
       "<div>\n",
       "<style scoped>\n",
       "    .dataframe tbody tr th:only-of-type {\n",
       "        vertical-align: middle;\n",
       "    }\n",
       "\n",
       "    .dataframe tbody tr th {\n",
       "        vertical-align: top;\n",
       "    }\n",
       "\n",
       "    .dataframe thead th {\n",
       "        text-align: right;\n",
       "    }\n",
       "</style>\n",
       "<table border=\"1\" class=\"dataframe\">\n",
       "  <thead>\n",
       "    <tr style=\"text-align: right;\">\n",
       "      <th></th>\n",
       "      <th>subject</th>\n",
       "      <th>summary</th>\n",
       "      <th>press</th>\n",
       "      <th>wdate</th>\n",
       "      <th>link</th>\n",
       "    </tr>\n",
       "  </thead>\n",
       "  <tbody>\n",
       "    <tr>\n",
       "      <th>0</th>\n",
       "      <td>삼성전자·SK하이닉스 '철렁'…\"다음 주까지 긴가민가\"</td>\n",
       "      <td>● 삼성전자·SK하이닉스 급락, 조정일까 위기일까 '딥시크(Deepseek) 쇼크'...</td>\n",
       "      <td>한국경제TV</td>\n",
       "      <td>2025-01-31 11:12:33</td>\n",
       "      <td>https://n.news.naver.com/mnews/article/215/000...</td>\n",
       "    </tr>\n",
       "    <tr>\n",
       "      <th>1</th>\n",
       "      <td>딥시크 충격에 전력인프라주 '줄비명'…\"과도한 우려\"</td>\n",
       "      <td>인공지능(AI) 서비스 확산 기대감에 한동안 올랐던 전력인프라주들이 일제 하락세를 ...</td>\n",
       "      <td>한국경제</td>\n",
       "      <td>2025-01-31 11:03:16</td>\n",
       "      <td>https://n.news.naver.com/mnews/article/015/000...</td>\n",
       "    </tr>\n",
       "    <tr>\n",
       "      <th>2</th>\n",
       "      <td>기업거버넌스포럼 “파행적 고려아연 임시 주총에 국격 추락”</td>\n",
       "      <td>최대주주 영풍의 의결권을 기습적으로 배제하면서 파행적으로 진행된 고려아연의 임시주주...</td>\n",
       "      <td>데일리안</td>\n",
       "      <td>2025-01-31 10:56:13</td>\n",
       "      <td>https://n.news.naver.com/mnews/article/119/000...</td>\n",
       "    </tr>\n",
       "    <tr>\n",
       "      <th>3</th>\n",
       "      <td>암호화폐 베테랑 \"비트코인 2~3월 13만달러 돌파\"</td>\n",
       "      <td>월가에서 암호화폐 베테랑으로 불리는 제프 켄드릭 스탠다드차타드(SC) 애널리스트가 ...</td>\n",
       "      <td>한국경제TV</td>\n",
       "      <td>2025-01-31 10:43:15</td>\n",
       "      <td>https://n.news.naver.com/mnews/article/215/000...</td>\n",
       "    </tr>\n",
       "    <tr>\n",
       "      <th>4</th>\n",
       "      <td>삼성운용 'KODEX 200타겟위클리커버드콜', 두 달만에 순자산 1000억 돌파</td>\n",
       "      <td>최근 ‘세금 없는’ 국내 주식 시세차익과 장내 파생상품 수익을 활용해 매월 고배당과...</td>\n",
       "      <td>파이낸셜뉴스</td>\n",
       "      <td>2025-01-31 10:34:36</td>\n",
       "      <td>https://n.news.naver.com/mnews/article/014/000...</td>\n",
       "    </tr>\n",
       "  </tbody>\n",
       "</table>\n",
       "</div>"
      ],
      "text/plain": [
       "                                         subject  \\\n",
       "0                 삼성전자·SK하이닉스 '철렁'…\"다음 주까지 긴가민가\"   \n",
       "1                  딥시크 충격에 전력인프라주 '줄비명'…\"과도한 우려\"   \n",
       "2               기업거버넌스포럼 “파행적 고려아연 임시 주총에 국격 추락”   \n",
       "3                  암호화폐 베테랑 \"비트코인 2~3월 13만달러 돌파\"   \n",
       "4  삼성운용 'KODEX 200타겟위클리커버드콜', 두 달만에 순자산 1000억 돌파   \n",
       "\n",
       "                                             summary   press  \\\n",
       "0  ● 삼성전자·SK하이닉스 급락, 조정일까 위기일까 '딥시크(Deepseek) 쇼크'...  한국경제TV   \n",
       "1  인공지능(AI) 서비스 확산 기대감에 한동안 올랐던 전력인프라주들이 일제 하락세를 ...    한국경제   \n",
       "2  최대주주 영풍의 의결권을 기습적으로 배제하면서 파행적으로 진행된 고려아연의 임시주주...    데일리안   \n",
       "3  월가에서 암호화폐 베테랑으로 불리는 제프 켄드릭 스탠다드차타드(SC) 애널리스트가 ...  한국경제TV   \n",
       "4  최근 ‘세금 없는’ 국내 주식 시세차익과 장내 파생상품 수익을 활용해 매월 고배당과...  파이낸셜뉴스   \n",
       "\n",
       "                 wdate                                               link  \n",
       "0  2025-01-31 11:12:33  https://n.news.naver.com/mnews/article/215/000...  \n",
       "1  2025-01-31 11:03:16  https://n.news.naver.com/mnews/article/015/000...  \n",
       "2  2025-01-31 10:56:13  https://n.news.naver.com/mnews/article/119/000...  \n",
       "3  2025-01-31 10:43:15  https://n.news.naver.com/mnews/article/215/000...  \n",
       "4  2025-01-31 10:34:36  https://n.news.naver.com/mnews/article/014/000...  "
      ]
     },
     "execution_count": 69,
     "metadata": {},
     "output_type": "execute_result"
    }
   ],
   "source": [
    "import pandas as pd\n",
    "\n",
    "# 각각의 기사에 대한 정보의 열 이름이 dict의 키값에 들어가있으므로 \n",
    "# DataFrame이 알잘딱 생성해줍니다 ~.~\n",
    "df = pd.DataFrame(articles)\n",
    "\n",
    "# 출력할 디렉토리를 먼저 생성해줍시다.\n",
    "os.makedirs('./data', exist_ok=True)\n",
    "\n",
    "df.to_csv('./data/finance.csv', encoding='utf-8', index=False)\n",
    "df.to_excel('./data/finance.xlsx')\n",
    "df.head()"
   ]
  },
  {
   "cell_type": "markdown",
   "metadata": {},
   "source": [
    "### 📅 입력한 날짜의 기사 스크랩"
   ]
  },
  {
   "cell_type": "code",
   "execution_count": 75,
   "metadata": {},
   "outputs": [
    {
     "name": "stdout",
     "output_type": "stream",
     "text": [
      "검색할 날짜(yyyy-MM-DD): 2024-11-21\n"
     ]
    },
    {
     "data": {
      "text/plain": [
       "{'subject': '\"엔비디아, 시가총액 5조달러 합리적으로 기대 가능\"-NH',\n",
       " 'summary': '엔비디아 시가총액이 5조달러(약 6981조원)에 달할 수 있다는 관측이 나왔다. 현 주가에서 39%대 상승 여력이 있다고 본 것이다. .. 머니투데이 | 2024-11-21 23:03:06',\n",
       " 'press': '머니투데이',\n",
       " 'wdate': '2024-11-21 23:03:06',\n",
       " 'link': 'https://n.news.naver.com/mnews/article/008/0005117838'}"
      ]
     },
     "metadata": {},
     "output_type": "display_data"
    },
    {
     "data": {
      "text/plain": [
       "{'subject': '“기대가 너무 컸나”…엔비디아 실적 선방했지만 반도체 주가는 시들',\n",
       " 'summary': '엔비디아 3분기 매출 94% 증가 지속성장세 의문에 시간외 2.5% 뚝 SK하이닉스 하루만에 1% 떨어져 반도체 업종 주가 가늠자로 통.. 매일경제 | 2024-11-21 22:56:08',\n",
       " 'press': '매일경제',\n",
       " 'wdate': '2024-11-21 22:56:08',\n",
       " 'link': 'https://n.news.naver.com/mnews/article/009/0005400906'}"
      ]
     },
     "metadata": {},
     "output_type": "display_data"
    },
    {
     "data": {
      "text/plain": [
       "{'subject': '갑질에도 왜 가만히 있나 했더니…구글-게임사 담합…\"7천억 원 부당 수익\"',\n",
       " 'summary': '지난해 구글이 다른 앱스토어에 게임을 출시하지 못하도록 부당한 압력을 넣었다는 사실이 밝혀졌는데요. 이번에는 구글과 일부 게임사가 단독.. MBN | 2024-11-21 20:18:15',\n",
       " 'press': 'MBN',\n",
       " 'wdate': '2024-11-21 20:18:15',\n",
       " 'link': 'https://n.news.naver.com/mnews/article/057/0001855252'}"
      ]
     },
     "metadata": {},
     "output_type": "display_data"
    }
   ],
   "source": [
    "hint = '검색할 날짜(yyyy-MM-DD):'\n",
    "date = input(hint)\n",
    "print(hint, date)\n",
    "\n",
    "url = f'https://finance.naver.com/news/mainnews.naver?date={date}'\n",
    "\n",
    "articles = scrap_articles(driver, url)\n",
    "\n",
    "for article in articles[:3]:\n",
    "    display(article)"
   ]
  },
  {
   "cell_type": "markdown",
   "metadata": {},
   "source": [
    "### 📖 모든 페이지 스크랩"
   ]
  },
  {
   "cell_type": "code",
   "execution_count": 118,
   "metadata": {},
   "outputs": [
    {
     "name": "stdout",
     "output_type": "stream",
     "text": [
      "검색할 날짜(yyyy-MM-DD): 2025-1-31\n"
     ]
    },
    {
     "ename": "NoSuchWindowException",
     "evalue": "Message: no such window: target window already closed\nfrom unknown error: web view not found\n  (Session info: MicrosoftEdge=132.0.2957.127)\nStacktrace:\n\tGetHandleVerifier [0x00007FF7E8FF0AF5+13637]\n\tMicrosoft::Applications::Events::EventProperty::empty [0x00007FF7E927BC04+2078868]\n\tMicrosoft::Applications::Events::EventProperty::empty [0x00007FF7E91D66E6+1401718]\n\t(No symbol) [0x00007FF7E8D47A27]\n\t(No symbol) [0x00007FF7E8DD39C5]\n\t(No symbol) [0x00007FF7E8DE83EA]\n\t(No symbol) [0x00007FF7E8DCDA33]\n\t(No symbol) [0x00007FF7E8DA32F4]\n\t(No symbol) [0x00007FF7E8DA2626]\n\t(No symbol) [0x00007FF7E8DA2EE1]\n\t(No symbol) [0x00007FF7E8E2E194]\n\t(No symbol) [0x00007FF7E8ED607F]\n\t(No symbol) [0x00007FF7E8E31B83]\n\tMicrosoft::Applications::Events::EventProperty::to_string [0x00007FF7E93381F9+269801]\n\tMicrosoft::Applications::Events::ILogConfiguration::operator* [0x00007FF7E8F871B1+519377]\n\tMicrosoft::Applications::Events::ILogConfiguration::operator* [0x00007FF7E8F824A4+499652]\n\tMicrosoft::Applications::Events::ILogConfiguration::operator* [0x00007FF7E8F825E9+499977]\n\tMicrosoft::Applications::Events::ILogConfiguration::operator* [0x00007FF7E8F77566+454790]\n\tBaseThreadInitThunk [0x00007FFDBED7E8D7+23]\n\tRtlUserThreadStart [0x00007FFDBFD9FBCC+44]\n",
     "output_type": "error",
     "traceback": [
      "\u001b[1;31m---------------------------------------------------------------------------\u001b[0m",
      "\u001b[1;31mNoSuchWindowException\u001b[0m                     Traceback (most recent call last)",
      "Cell \u001b[1;32mIn[118], line 16\u001b[0m\n\u001b[0;32m     11\u001b[0m \u001b[38;5;66;03m# 페이지를 1씩 늘리면서 반복합니다.\u001b[39;00m\n\u001b[0;32m     12\u001b[0m \u001b[38;5;28;01mwhile\u001b[39;00m \u001b[38;5;28;01mTrue\u001b[39;00m:\n\u001b[0;32m     13\u001b[0m     \u001b[38;5;66;03m# 페이지가 포함된 url이 가리키는 페이지에 방문하고\u001b[39;00m\n\u001b[0;32m     14\u001b[0m     \u001b[38;5;66;03m# 그 페이지의 기사를 모두 스크랩 한 다음에\u001b[39;00m\n\u001b[0;32m     15\u001b[0m     \u001b[38;5;66;03m# 스크랩된 데이터를 articles의 뒤에 덧붙입니다.\u001b[39;00m\n\u001b[1;32m---> 16\u001b[0m     articles\u001b[38;5;241m.\u001b[39mextend(\u001b[43mscrap_articles\u001b[49m\u001b[43m(\u001b[49m\u001b[43mdriver\u001b[49m\u001b[43m,\u001b[49m\u001b[43m \u001b[49m\u001b[43murl\u001b[49m\u001b[43m \u001b[49m\u001b[38;5;241;43m+\u001b[39;49m\u001b[43m \u001b[49m\u001b[38;5;124;43mf\u001b[39;49m\u001b[38;5;124;43m'\u001b[39;49m\u001b[38;5;124;43m&page=\u001b[39;49m\u001b[38;5;132;43;01m{\u001b[39;49;00m\u001b[43mpage\u001b[49m\u001b[38;5;132;43;01m}\u001b[39;49;00m\u001b[38;5;124;43m'\u001b[39;49m\u001b[43m)\u001b[49m)\n\u001b[0;32m     18\u001b[0m     \u001b[38;5;66;03m# 만약 [맨뒤] 버튼이 없다면 마지막 페이지이므로 반복문을 탈출합니다.\u001b[39;00m\n\u001b[0;32m     19\u001b[0m     \u001b[38;5;28;01mtry\u001b[39;00m:\n",
      "Cell \u001b[1;32mIn[76], line 4\u001b[0m, in \u001b[0;36mscrap_articles\u001b[1;34m(driver, url)\u001b[0m\n\u001b[0;32m      3\u001b[0m \u001b[38;5;28;01mdef\u001b[39;00m\u001b[38;5;250m \u001b[39m\u001b[38;5;21mscrap_articles\u001b[39m(driver, url):\n\u001b[1;32m----> 4\u001b[0m     \u001b[43mdriver\u001b[49m\u001b[38;5;241;43m.\u001b[39;49m\u001b[43mget\u001b[49m\u001b[43m(\u001b[49m\u001b[43murl\u001b[49m\u001b[43m)\u001b[49m\n\u001b[0;32m      6\u001b[0m     raw_articles \u001b[38;5;241m=\u001b[39m driver\u001b[38;5;241m.\u001b[39mfind_elements(By\u001b[38;5;241m.\u001b[39mCSS_SELECTOR, \u001b[38;5;124m'\u001b[39m\u001b[38;5;124m.block1\u001b[39m\u001b[38;5;124m'\u001b[39m)\n\u001b[0;32m      7\u001b[0m     articles \u001b[38;5;241m=\u001b[39m []\n",
      "File \u001b[1;32mg:\\zer0ken\\ms-ai-school\\.venv\\Lib\\site-packages\\selenium\\webdriver\\remote\\webdriver.py:356\u001b[0m, in \u001b[0;36mWebDriver.get\u001b[1;34m(self, url)\u001b[0m\n\u001b[0;32m    354\u001b[0m \u001b[38;5;28;01mdef\u001b[39;00m\u001b[38;5;250m \u001b[39m\u001b[38;5;21mget\u001b[39m(\u001b[38;5;28mself\u001b[39m, url: \u001b[38;5;28mstr\u001b[39m) \u001b[38;5;241m-\u001b[39m\u001b[38;5;241m>\u001b[39m \u001b[38;5;28;01mNone\u001b[39;00m:\n\u001b[0;32m    355\u001b[0m \u001b[38;5;250m    \u001b[39m\u001b[38;5;124;03m\"\"\"Loads a web page in the current browser session.\"\"\"\u001b[39;00m\n\u001b[1;32m--> 356\u001b[0m     \u001b[38;5;28;43mself\u001b[39;49m\u001b[38;5;241;43m.\u001b[39;49m\u001b[43mexecute\u001b[49m\u001b[43m(\u001b[49m\u001b[43mCommand\u001b[49m\u001b[38;5;241;43m.\u001b[39;49m\u001b[43mGET\u001b[49m\u001b[43m,\u001b[49m\u001b[43m \u001b[49m\u001b[43m{\u001b[49m\u001b[38;5;124;43m\"\u001b[39;49m\u001b[38;5;124;43murl\u001b[39;49m\u001b[38;5;124;43m\"\u001b[39;49m\u001b[43m:\u001b[49m\u001b[43m \u001b[49m\u001b[43murl\u001b[49m\u001b[43m}\u001b[49m\u001b[43m)\u001b[49m\n",
      "File \u001b[1;32mg:\\zer0ken\\ms-ai-school\\.venv\\Lib\\site-packages\\selenium\\webdriver\\remote\\webdriver.py:347\u001b[0m, in \u001b[0;36mWebDriver.execute\u001b[1;34m(self, driver_command, params)\u001b[0m\n\u001b[0;32m    345\u001b[0m response \u001b[38;5;241m=\u001b[39m \u001b[38;5;28mself\u001b[39m\u001b[38;5;241m.\u001b[39mcommand_executor\u001b[38;5;241m.\u001b[39mexecute(driver_command, params)\n\u001b[0;32m    346\u001b[0m \u001b[38;5;28;01mif\u001b[39;00m response:\n\u001b[1;32m--> 347\u001b[0m     \u001b[38;5;28;43mself\u001b[39;49m\u001b[38;5;241;43m.\u001b[39;49m\u001b[43merror_handler\u001b[49m\u001b[38;5;241;43m.\u001b[39;49m\u001b[43mcheck_response\u001b[49m\u001b[43m(\u001b[49m\u001b[43mresponse\u001b[49m\u001b[43m)\u001b[49m\n\u001b[0;32m    348\u001b[0m     response[\u001b[38;5;124m\"\u001b[39m\u001b[38;5;124mvalue\u001b[39m\u001b[38;5;124m\"\u001b[39m] \u001b[38;5;241m=\u001b[39m \u001b[38;5;28mself\u001b[39m\u001b[38;5;241m.\u001b[39m_unwrap_value(response\u001b[38;5;241m.\u001b[39mget(\u001b[38;5;124m\"\u001b[39m\u001b[38;5;124mvalue\u001b[39m\u001b[38;5;124m\"\u001b[39m, \u001b[38;5;28;01mNone\u001b[39;00m))\n\u001b[0;32m    349\u001b[0m     \u001b[38;5;28;01mreturn\u001b[39;00m response\n",
      "File \u001b[1;32mg:\\zer0ken\\ms-ai-school\\.venv\\Lib\\site-packages\\selenium\\webdriver\\remote\\errorhandler.py:229\u001b[0m, in \u001b[0;36mErrorHandler.check_response\u001b[1;34m(self, response)\u001b[0m\n\u001b[0;32m    227\u001b[0m         alert_text \u001b[38;5;241m=\u001b[39m value[\u001b[38;5;124m\"\u001b[39m\u001b[38;5;124malert\u001b[39m\u001b[38;5;124m\"\u001b[39m]\u001b[38;5;241m.\u001b[39mget(\u001b[38;5;124m\"\u001b[39m\u001b[38;5;124mtext\u001b[39m\u001b[38;5;124m\"\u001b[39m)\n\u001b[0;32m    228\u001b[0m     \u001b[38;5;28;01mraise\u001b[39;00m exception_class(message, screen, stacktrace, alert_text)  \u001b[38;5;66;03m# type: ignore[call-arg]  # mypy is not smart enough here\u001b[39;00m\n\u001b[1;32m--> 229\u001b[0m \u001b[38;5;28;01mraise\u001b[39;00m exception_class(message, screen, stacktrace)\n",
      "\u001b[1;31mNoSuchWindowException\u001b[0m: Message: no such window: target window already closed\nfrom unknown error: web view not found\n  (Session info: MicrosoftEdge=132.0.2957.127)\nStacktrace:\n\tGetHandleVerifier [0x00007FF7E8FF0AF5+13637]\n\tMicrosoft::Applications::Events::EventProperty::empty [0x00007FF7E927BC04+2078868]\n\tMicrosoft::Applications::Events::EventProperty::empty [0x00007FF7E91D66E6+1401718]\n\t(No symbol) [0x00007FF7E8D47A27]\n\t(No symbol) [0x00007FF7E8DD39C5]\n\t(No symbol) [0x00007FF7E8DE83EA]\n\t(No symbol) [0x00007FF7E8DCDA33]\n\t(No symbol) [0x00007FF7E8DA32F4]\n\t(No symbol) [0x00007FF7E8DA2626]\n\t(No symbol) [0x00007FF7E8DA2EE1]\n\t(No symbol) [0x00007FF7E8E2E194]\n\t(No symbol) [0x00007FF7E8ED607F]\n\t(No symbol) [0x00007FF7E8E31B83]\n\tMicrosoft::Applications::Events::EventProperty::to_string [0x00007FF7E93381F9+269801]\n\tMicrosoft::Applications::Events::ILogConfiguration::operator* [0x00007FF7E8F871B1+519377]\n\tMicrosoft::Applications::Events::ILogConfiguration::operator* [0x00007FF7E8F824A4+499652]\n\tMicrosoft::Applications::Events::ILogConfiguration::operator* [0x00007FF7E8F825E9+499977]\n\tMicrosoft::Applications::Events::ILogConfiguration::operator* [0x00007FF7E8F77566+454790]\n\tBaseThreadInitThunk [0x00007FFDBED7E8D7+23]\n\tRtlUserThreadStart [0x00007FFDBFD9FBCC+44]\n"
     ]
    }
   ],
   "source": [
    "from selenium.common.exceptions import NoSuchElementException\n",
    "\n",
    "hint = '검색할 날짜(yyyy-MM-DD):'\n",
    "date = input(hint)\n",
    "print(hint, date)\n",
    "\n",
    "url = f'https://finance.naver.com/news/mainnews.naver?date={date}'\n",
    "page = 1\n",
    "articles = []\n",
    "\n",
    "# 페이지를 1씩 늘리면서 반복합니다.\n",
    "while True:\n",
    "    # 페이지가 포함된 url이 가리키는 페이지에 방문하고\n",
    "    # 그 페이지의 기사를 모두 스크랩 한 다음에\n",
    "    # 스크랩된 데이터를 articles의 뒤에 덧붙입니다.\n",
    "    articles.extend(scrap_articles(driver, url + f'&page={page}'))\n",
    "    \n",
    "    # 만약 [맨뒤] 버튼이 없다면 마지막 페이지이므로 반복문을 탈출합니다.\n",
    "    try:\n",
    "        driver.find_element(By.CSS_SELECTOR, '.pgRR')\n",
    "    except NoSuchElementException:\n",
    "        break\n",
    "    \n",
    "    # 위에서 반복문을 탈출하지 않았다면 고오오냥 바로 다음 페이지로 ㅋㅋ\n",
    "    page += 1\n",
    "\n",
    "for article in articles[:3]:\n",
    "    display(article)"
   ]
  },
  {
   "cell_type": "code",
   "execution_count": 87,
   "metadata": {},
   "outputs": [
    {
     "data": {
      "text/html": [
       "<div>\n",
       "<style scoped>\n",
       "    .dataframe tbody tr th:only-of-type {\n",
       "        vertical-align: middle;\n",
       "    }\n",
       "\n",
       "    .dataframe tbody tr th {\n",
       "        vertical-align: top;\n",
       "    }\n",
       "\n",
       "    .dataframe thead th {\n",
       "        text-align: right;\n",
       "    }\n",
       "</style>\n",
       "<table border=\"1\" class=\"dataframe\">\n",
       "  <thead>\n",
       "    <tr style=\"text-align: right;\">\n",
       "      <th></th>\n",
       "      <th>subject</th>\n",
       "      <th>summary</th>\n",
       "      <th>press</th>\n",
       "      <th>wdate</th>\n",
       "      <th>link</th>\n",
       "    </tr>\n",
       "  </thead>\n",
       "  <tbody>\n",
       "    <tr>\n",
       "      <th>0</th>\n",
       "      <td>상장 미뤘더니 탄핵정국 한파…공모주 될 곳만 된다</td>\n",
       "      <td>이 기사는 2025년01월01일 21시14분에 마켓인 프리미엄 콘텐츠로 선공개 되었...</td>\n",
       "      <td>이데일리</td>\n",
       "      <td>2025-01-01 23:15:09</td>\n",
       "      <td>https://n.news.naver.com/mnews/article/018/000...</td>\n",
       "    </tr>\n",
       "    <tr>\n",
       "      <th>1</th>\n",
       "      <td>“서학개미는 이 앱 무조건 깔겠네”…美증시 동향, 비서가 즉각 보고해준다는데</td>\n",
       "      <td>매경 월가월부, 언론사 최초 AI 투자정보 서비스 서학개미 관심 기업 400여곳 텔...</td>\n",
       "      <td>매일경제</td>\n",
       "      <td>2025-01-01 20:17:07</td>\n",
       "      <td>https://n.news.naver.com/mnews/article/009/000...</td>\n",
       "    </tr>\n",
       "    <tr>\n",
       "      <th>2</th>\n",
       "      <td>지난해 120% 오른 비트코인 “올해 두배 간다” 정말?</td>\n",
       "      <td>전문가들 “기관 유입 증가” 이유로 꼽아 “8만 달러로 하락” 전망도 비트코인이 2...</td>\n",
       "      <td>문화일보</td>\n",
       "      <td>2025-01-01 20:03:09</td>\n",
       "      <td>https://n.news.naver.com/mnews/article/021/000...</td>\n",
       "    </tr>\n",
       "    <tr>\n",
       "      <th>3</th>\n",
       "      <td>'과일 강세' 연말 물가…고환율에 위협받는 새해 물가</td>\n",
       "      <td>지난달 소비자물가는 1.9%로 넉 달 연속 1%를 기록했지만 앞으로가 문제입니다. ...</td>\n",
       "      <td>MBN</td>\n",
       "      <td>2025-01-01 19:55:07</td>\n",
       "      <td>https://n.news.naver.com/mnews/article/057/000...</td>\n",
       "    </tr>\n",
       "    <tr>\n",
       "      <th>4</th>\n",
       "      <td>공사로 300m 줄어든 19번 활주로…동체착륙 활주 거리 짧아졌나</td>\n",
       "      <td>급박한 상황에서도 동체 착륙은 잘 들어간 것 같았는데, 결국 둔덕에 충돌하면서 대형...</td>\n",
       "      <td>MBN</td>\n",
       "      <td>2025-01-01 19:33:07</td>\n",
       "      <td>https://n.news.naver.com/mnews/article/057/000...</td>\n",
       "    </tr>\n",
       "  </tbody>\n",
       "</table>\n",
       "</div>"
      ],
      "text/plain": [
       "                                      subject  \\\n",
       "0                 상장 미뤘더니 탄핵정국 한파…공모주 될 곳만 된다   \n",
       "1  “서학개미는 이 앱 무조건 깔겠네”…美증시 동향, 비서가 즉각 보고해준다는데   \n",
       "2             지난해 120% 오른 비트코인 “올해 두배 간다” 정말?   \n",
       "3               '과일 강세' 연말 물가…고환율에 위협받는 새해 물가   \n",
       "4        공사로 300m 줄어든 19번 활주로…동체착륙 활주 거리 짧아졌나   \n",
       "\n",
       "                                             summary press  \\\n",
       "0  이 기사는 2025년01월01일 21시14분에 마켓인 프리미엄 콘텐츠로 선공개 되었...  이데일리   \n",
       "1  매경 월가월부, 언론사 최초 AI 투자정보 서비스 서학개미 관심 기업 400여곳 텔...  매일경제   \n",
       "2  전문가들 “기관 유입 증가” 이유로 꼽아 “8만 달러로 하락” 전망도 비트코인이 2...  문화일보   \n",
       "3  지난달 소비자물가는 1.9%로 넉 달 연속 1%를 기록했지만 앞으로가 문제입니다. ...   MBN   \n",
       "4  급박한 상황에서도 동체 착륙은 잘 들어간 것 같았는데, 결국 둔덕에 충돌하면서 대형...   MBN   \n",
       "\n",
       "                 wdate                                               link  \n",
       "0  2025-01-01 23:15:09  https://n.news.naver.com/mnews/article/018/000...  \n",
       "1  2025-01-01 20:17:07  https://n.news.naver.com/mnews/article/009/000...  \n",
       "2  2025-01-01 20:03:09  https://n.news.naver.com/mnews/article/021/000...  \n",
       "3  2025-01-01 19:55:07  https://n.news.naver.com/mnews/article/057/000...  \n",
       "4  2025-01-01 19:33:07  https://n.news.naver.com/mnews/article/057/000...  "
      ]
     },
     "execution_count": 87,
     "metadata": {},
     "output_type": "execute_result"
    }
   ],
   "source": [
    "df = pd.DataFrame(articles)\n",
    "\n",
    "# 출력할 디렉토리를 먼저 생성해줍시다.\n",
    "os.makedirs('./data', exist_ok=True)\n",
    "\n",
    "df.to_csv(f'./data/finance-{date}.csv', encoding='utf-8', index=False)\n",
    "df.head()"
   ]
  },
  {
   "cell_type": "markdown",
   "metadata": {},
   "source": [
    "## 🛍️ 네이버 쇼핑몰"
   ]
  },
  {
   "cell_type": "code",
   "execution_count": 105,
   "metadata": {},
   "outputs": [],
   "source": [
    "url = \"https://search.shopping.naver.com/search/all?query=노트북\"\n",
    "driver = Edge()\n",
    "driver.get(url)\n",
    "driver.maximize_window()"
   ]
  },
  {
   "cell_type": "markdown",
   "metadata": {},
   "source": [
    "### ⤵️ 스크롤 내려보기\n",
    "페이지 전체를 로드하기 위해 스크롤을 내리는 방법을 쓸 수 있습니다."
   ]
  },
  {
   "cell_type": "code",
   "execution_count": 117,
   "metadata": {},
   "outputs": [],
   "source": [
    "import time\n",
    "\n",
    "driver.refresh()\n",
    "\n",
    "# 무한스크롤\n",
    "# 페이지의 스크롤 높이 받아오기\n",
    "last_height = driver.execute_script(\"return document.body.scrollHeight\")\n",
    "\n",
    "while True:\n",
    "    # 스크롤 끝까지 내리기\n",
    "    driver.execute_script(\"window.scrollTo(0,document.body.scrollHeight)\")\n",
    " \n",
    "    # 현재 스크롤 위치 받아오기\n",
    "    current_height = driver.execute_script(\"return document.body.scrollHeight\")\n",
    " \n",
    "    # 마지막스크롤 = 현재스크롤이면 반복 벗어나기  \n",
    "    if last_height == current_height: break\n",
    " \n",
    "    # 현재 스크롤을 마지막 스크롤로 업데이트 하기\n",
    "    last_height = current_height\n",
    "\n",
    "    time.sleep(2.0)"
   ]
  }
 ],
 "metadata": {
  "kernelspec": {
   "display_name": ".venv",
   "language": "python",
   "name": "python3"
  },
  "language_info": {
   "codemirror_mode": {
    "name": "ipython",
    "version": 3
   },
   "file_extension": ".py",
   "mimetype": "text/x-python",
   "name": "python",
   "nbconvert_exporter": "python",
   "pygments_lexer": "ipython3",
   "version": "3.12.7"
  }
 },
 "nbformat": 4,
 "nbformat_minor": 2
}
